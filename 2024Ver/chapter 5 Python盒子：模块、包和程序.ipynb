{
 "cells": [
  {
   "cell_type": "markdown",
   "id": "5e4dae4e-9833-47f5-974b-431faf222eac",
   "metadata": {},
   "source": [
    "## 5.5 ptrhon标准库"
   ]
  },
  {
   "cell_type": "markdown",
   "id": "7d2438a1-66c7-458b-8f9e-f1785c071164",
   "metadata": {
    "jp-MarkdownHeadingCollapsed": true
   },
   "source": [
    "### 5.5.1 使用setdefault()和defaultdict()处理缺失的键"
   ]
  },
  {
   "cell_type": "markdown",
   "id": "9e644ae9-d4da-47a9-a70e-eef294849be6",
   "metadata": {},
   "source": [
    "1、读取字典中不存在的键的值会抛出异常。使用字典函数get() 返回一个默认值会避免异常\n",
    "发生。函数setdefault() 类似于get()， 但当键不存在时它会在字典中添加一项："
   ]
  },
  {
   "cell_type": "code",
   "execution_count": null,
   "id": "4f10234d-1a0d-4d6c-ae50-43d17c640c3b",
   "metadata": {},
   "outputs": [],
   "source": [
    ">>> periodic_table = {'Hydrogen': 1, 'Helium': 2}\n",
    ">>> print(periodic_table)"
   ]
  },
  {
   "cell_type": "markdown",
   "id": "697f8430-4a39-46c9-bd27-63f3af2dfc1b",
   "metadata": {},
   "source": [
    "如果键不在字典中，新的默认值会被添加进去："
   ]
  },
  {
   "cell_type": "code",
   "execution_count": null,
   "id": "fa79a7b9-c185-4840-a654-56be1a8f641f",
   "metadata": {},
   "outputs": [],
   "source": [
    ">>> carbon = periodic_table.setdefault('Carbon', 12)\n",
    ">>> carbon"
   ]
  },
  {
   "cell_type": "code",
   "execution_count": null,
   "id": "e455cb8b-c85d-468f-bc6e-b28edd8db206",
   "metadata": {},
   "outputs": [],
   "source": [
    ">>> periodic_table"
   ]
  },
  {
   "cell_type": "markdown",
   "id": "3cd90291-d13f-4ba6-a8e3-d2cf38593be3",
   "metadata": {},
   "source": [
    "如果试图把一个不同的默认值赋给已经存在的键，不会改变原来的值，仍将返回初始值："
   ]
  },
  {
   "cell_type": "code",
   "execution_count": null,
   "id": "8edf2dd7-3ceb-4831-a3e7-30642ac757d2",
   "metadata": {},
   "outputs": [],
   "source": [
    ">>> helium = periodic_table.setdefault('Helium', 947)\n",
    ">>> helium"
   ]
  },
  {
   "cell_type": "code",
   "execution_count": null,
   "id": "3acd2aad-0963-4e12-8c74-15b54469927b",
   "metadata": {},
   "outputs": [],
   "source": [
    ">>> periodic_table"
   ]
  },
  {
   "cell_type": "markdown",
   "id": "14fa6cde-17ee-4689-bb84-e948fb5989fe",
   "metadata": {},
   "source": [
    "2、defaultdict() 也有同样的用法，但是在创建字典时，对每个新的键都会指定默认值。它的\n",
    "参数是一个函数。\n",
    "\n",
    "在本例中，把函数int 作为参数传入，会按照int() 调用，返回整数0："
   ]
  },
  {
   "cell_type": "code",
   "execution_count": null,
   "id": "9a0cf0c3-efe0-49e3-bc0a-0e801c8d14ba",
   "metadata": {},
   "outputs": [],
   "source": [
    ">>> from collections import defaultdict\n",
    ">>> periodic_table = defaultdict(int)"
   ]
  },
  {
   "cell_type": "code",
   "execution_count": null,
   "id": "da1ce5b0-0141-4215-a7a6-26692116d8ea",
   "metadata": {},
   "outputs": [],
   "source": [
    ">>> periodic_table['Hydrogen'] = 1\n",
    ">>> periodic_table['Lead']"
   ]
  },
  {
   "cell_type": "code",
   "execution_count": null,
   "id": "6207e894-ca0b-42f9-b41e-f98847cc5598",
   "metadata": {},
   "outputs": [],
   "source": [
    "periodic_table"
   ]
  },
  {
   "cell_type": "markdown",
   "id": "6c52432e-6d41-40d4-8616-65d753b1bf63",
   "metadata": {},
   "source": [
    "3、函数defaultdict() 的参数是一个函数，它返回赋给缺失键的值。\n",
    "\n",
    "在下面的例子中，no_\r\n",
    "idea() 在需要时会被执行，返回一个值："
   ]
  },
  {
   "cell_type": "code",
   "execution_count": null,
   "id": "3830fcbc-4a68-4958-bc11-389893e65519",
   "metadata": {},
   "outputs": [],
   "source": [
    ">>> from collections import defaultdict\n",
    ">>> def no_idea():\n",
    "    return 'Huh?'\n",
    ">>> bestiary = defaultdict(no_idea)\n",
    ">>> bestiary['A'] = 'Abominable Snowman'\n",
    ">>> bestiary['B'] = 'Basilisk'\n",
    ">>> bestiary['A']"
   ]
  },
  {
   "cell_type": "code",
   "execution_count": null,
   "id": "fcab9936-1eb5-4868-8b6f-0d61179c3f50",
   "metadata": {},
   "outputs": [],
   "source": [
    ">>> bestiary['B']"
   ]
  },
  {
   "cell_type": "code",
   "execution_count": null,
   "id": "7b230b09-4839-4bda-9eee-ae16b5c8b144",
   "metadata": {},
   "outputs": [],
   "source": [
    ">>> bestiary['C']"
   ]
  },
  {
   "cell_type": "markdown",
   "id": "0a476f42-e6bd-45ed-a963-4670b31968f3",
   "metadata": {},
   "source": [
    "同样，可以使用函数int()、list() 或者dict() 返回默认空的值：int() 返回0，list()\n",
    "返回空列表（[]），dict() 返回空字典（{}）。如果你删掉该函数参数，新键的初始值会被\n",
    "设置为None。"
   ]
  },
  {
   "cell_type": "markdown",
   "id": "d2fad9e3-258e-4db4-b226-d718f7548775",
   "metadata": {},
   "source": [
    "顺便提一下，也可以使用lambda 来定义你的默认值函数："
   ]
  },
  {
   "cell_type": "code",
   "execution_count": null,
   "id": "3c88ef13-e527-4b2c-964e-ec6eaefa9f66",
   "metadata": {},
   "outputs": [],
   "source": [
    ">>> bestiary = defaultdict(lambda: 'Huh?')\n",
    ">>> bestiary['E']"
   ]
  },
  {
   "cell_type": "markdown",
   "id": "f8984490-34f5-43b7-9230-6864afe18515",
   "metadata": {},
   "source": [
    "4、使用int 是一种定义计数器的方式："
   ]
  },
  {
   "cell_type": "code",
   "execution_count": null,
   "id": "ac87f27e-40e3-44a0-8886-f9f0032ccec6",
   "metadata": {},
   "outputs": [],
   "source": [
    ">>> from collections import defaultdict\n",
    ">>> food_counter = defaultdict(int)\n",
    ">>> for food in ['spam', 'spam', 'eggs', 'spam']:\n",
    "    food_counter[food] += 1\n",
    ">>> for food, count in food_counter.items():\n",
    "        print(food, count)"
   ]
  },
  {
   "cell_type": "code",
   "execution_count": null,
   "id": "3defa76a-1019-4f5a-80ba-36c9dea9f0e0",
   "metadata": {},
   "outputs": [],
   "source": [
    "food_counter"
   ]
  },
  {
   "cell_type": "markdown",
   "id": "1581d22f-9ee8-4bad-bab3-8cf45f9fa89c",
   "metadata": {},
   "source": [
    "上面的例子中，如果food_counter 已经是一个普通的字典而不是defaultdict 默认字典，\n",
    "那每次试图自增字典元素food_counter[food] 值时，Python 会抛出一个异常，因为我们没\n",
    "有对它进行初始化"
   ]
  },
  {
   "cell_type": "code",
   "execution_count": null,
   "id": "954c0294-2c1f-4796-b70a-513111be5716",
   "metadata": {},
   "outputs": [],
   "source": [
    ">>> from collections import defaultdict\n",
    ">>> food_counter = dict()\n",
    ">>> for food in ['spam', 'spam', 'eggs', 'spam']:\n",
    "    food_counter[food] += 1\n",
    ">>> for food, count in food_counter.items():\n",
    "        print(food, count)"
   ]
  },
  {
   "cell_type": "markdown",
   "id": "7aa1a36c-9744-4827-93db-c7c6b8196ac3",
   "metadata": {
    "jp-MarkdownHeadingCollapsed": true
   },
   "source": [
    "### 5.5.2 使用Counter()计数"
   ]
  },
  {
   "cell_type": "markdown",
   "id": "c4f4a98d-4c78-4709-a8ba-6f9af14aacf8",
   "metadata": {},
   "source": [
    "说起计数器，标准库有一个计数器，它可以胜任之前或者更多示例所做的工作："
   ]
  },
  {
   "cell_type": "code",
   "execution_count": null,
   "id": "56f9a8ec-55b0-44a7-8f04-750689dcb9e6",
   "metadata": {},
   "outputs": [],
   "source": [
    ">>> from collections import Counter\n",
    ">>> breakfast = ['spam', 'spam', 'eggs', 'spam']\n",
    ">>> breakfast_counter = Counter(breakfast)\n",
    ">>> breakfast_counter"
   ]
  },
  {
   "cell_type": "markdown",
   "id": "0d9c7626-434a-4038-acea-22d30b3b7633",
   "metadata": {},
   "source": [
    "函数most_common() 以降序返回所有元素，或者如果给定一个数字，会返回该数字前的的\n",
    "元素："
   ]
  },
  {
   "cell_type": "code",
   "execution_count": null,
   "id": "5289dd39-2307-46fc-87ce-234f68a64a9e",
   "metadata": {},
   "outputs": [],
   "source": [
    ">>> breakfast_counter.most_common()"
   ]
  },
  {
   "cell_type": "code",
   "execution_count": null,
   "id": "6a75e920-ea55-4a04-b973-65fb90e1a49c",
   "metadata": {},
   "outputs": [],
   "source": [
    ">>> breakfast_counter.most_common(1)"
   ]
  },
  {
   "cell_type": "code",
   "execution_count": null,
   "id": "a97ac7a6-7a07-44cb-b8d6-5ab39246526d",
   "metadata": {},
   "outputs": [],
   "source": [
    ">>> breakfast_counter.most_common(2)"
   ]
  },
  {
   "cell_type": "markdown",
   "id": "da137322-d050-4b39-9f1d-798c549ab960",
   "metadata": {},
   "source": [
    "也可以组合计数器。首先来看一下breakfast_counter："
   ]
  },
  {
   "cell_type": "code",
   "execution_count": null,
   "id": "ca58109d-6522-4fc5-897d-baf30c3f7d73",
   "metadata": {},
   "outputs": [],
   "source": [
    ">>> breakfast_counter\n",
    ">>> Counter({'spam': 3, 'eggs': 1})"
   ]
  },
  {
   "cell_type": "markdown",
   "id": "d5f07e2b-c6c9-4be3-9e71-f09ea77b589b",
   "metadata": {},
   "source": [
    "这一次，新建一个列表lunch 和一个计数器lunch_counter："
   ]
  },
  {
   "cell_type": "code",
   "execution_count": null,
   "id": "16f6ffd2-5877-42fc-836b-ade4d4f08cdf",
   "metadata": {},
   "outputs": [],
   "source": [
    ">>> lunch = ['eggs', 'eggs', 'bacon']\n",
    ">>> lunch_counter = Counter(lunch)\n",
    ">>> lunch_counter"
   ]
  },
  {
   "cell_type": "markdown",
   "id": "e8e4d986-93d7-44a1-a0ec-8f9dec01fbd3",
   "metadata": {},
   "source": [
    "第一种组合计数器的方式是使用+："
   ]
  },
  {
   "cell_type": "code",
   "execution_count": null,
   "id": "9405dbe3-818f-45b8-93e4-7991872a3e23",
   "metadata": {},
   "outputs": [],
   "source": [
    ">>> breakfast_counter + lunch_counter"
   ]
  },
  {
   "cell_type": "markdown",
   "id": "7e678af4-90aa-4534-8ddf-f9e76525fce5",
   "metadata": {},
   "source": [
    "你也可能想到，从一个计数器去掉另一个，可以使用-。什么是早餐有的而午餐没有的呢？"
   ]
  },
  {
   "cell_type": "code",
   "execution_count": null,
   "id": "4ef17e09-5b3a-4d78-949b-4a01b59ad2c1",
   "metadata": {},
   "outputs": [],
   "source": [
    ">>> breakfast_counter - lunch_counter"
   ]
  },
  {
   "cell_type": "markdown",
   "id": "16795dd9-8a50-4a81-9eaf-2bdea94940ec",
   "metadata": {},
   "source": [
    "那么什么又是午餐有的而早餐没有的呢?"
   ]
  },
  {
   "cell_type": "code",
   "execution_count": null,
   "id": "e0f61162-eae6-42e6-aa3a-8ba66674bdf8",
   "metadata": {},
   "outputs": [],
   "source": [
    ">>> lunch_counter - breakfast_counter"
   ]
  },
  {
   "cell_type": "markdown",
   "id": "90af62f7-a4fa-4612-95fe-780f9cbad357",
   "metadata": {},
   "source": [
    "和第4 章中的集合类似，可以使用交集运算符& 得到二者共有的项："
   ]
  },
  {
   "cell_type": "code",
   "execution_count": null,
   "id": "fc3552f2-8997-4f77-9a35-3164dd0f88c7",
   "metadata": {},
   "outputs": [],
   "source": [
    ">>> breakfast_counter & lunch_counter"
   ]
  },
  {
   "cell_type": "markdown",
   "id": "ff839040-a1e9-4484-9d79-23e2b394d56b",
   "metadata": {},
   "source": [
    "最后，使用并集运算符| 得到所有元素："
   ]
  },
  {
   "cell_type": "code",
   "execution_count": null,
   "id": "7fec4a1a-4769-41da-adb5-b086016f2e8f",
   "metadata": {},
   "outputs": [],
   "source": [
    ">>> breakfast_counter | lunch_counter"
   ]
  },
  {
   "cell_type": "markdown",
   "id": "c09bada9-d432-44a4-a153-220e6dec0d1b",
   "metadata": {},
   "source": [
    "'eggs' 又是两者共有的项。不同于合并，并集没有把计数加起来，而是取其中较大的值。"
   ]
  },
  {
   "cell_type": "markdown",
   "id": "2ad6bb14-6145-4814-b3c3-5ab5f9064d50",
   "metadata": {
    "jp-MarkdownHeadingCollapsed": true
   },
   "source": [
    "### 5.5.3 使用有序字典OrderedDict()按键排序"
   ]
  },
  {
   "cell_type": "markdown",
   "id": "fcc1ff96-18b0-4370-924b-2161c1e8814b",
   "metadata": {},
   "source": [
    "在前面几章的代码示例中可以看出，一个字典中键的顺序是不可预知的：你可以按照顺序\n",
    "添加键a、b 和c，但函数keys() 可能返回c、a 和b。"
   ]
  },
  {
   "cell_type": "code",
   "execution_count": null,
   "id": "5afa383d-d69f-4bb9-a332-672d95cfabfd",
   "metadata": {},
   "outputs": [],
   "source": [
    ">>> quotes = {\n",
    "        'Moe': 'A wise guy, huh?',\n",
    "        'Curly': 'Nyuk nyuk!',\n",
    "        'Larry': 'Ow!',\n",
    "    }\n",
    ">>> for stooge in quotes:\n",
    "        print(stooge)"
   ]
  },
  {
   "cell_type": "markdown",
   "id": "74392efa-ab5e-47db-8230-b7760d18bc6f",
   "metadata": {},
   "source": [
    "有序字典OrderedDict() 记忆字典键添加的顺序，然后从一个迭代器按照相同的顺序返\n",
    "回。 试着用元组（键，值）创建一个有序字典："
   ]
  },
  {
   "cell_type": "code",
   "execution_count": 12,
   "id": "a08be630-4e6d-4ef6-8d7c-d9ba3136b61a",
   "metadata": {},
   "outputs": [
    {
     "name": "stdout",
     "output_type": "stream",
     "text": [
      "Moe\n",
      "Larry\n",
      "Curly\n"
     ]
    }
   ],
   "source": [
    ">>> from collections import OrderedDict\n",
    ">>> quotes = OrderedDict([\n",
    "        ('Moe', 'A wise guy, huh?'),\n",
    "        ('Larry', 'Ow!'),\n",
    "        ('Curly', 'Nyuk nyuk!'),\n",
    "    ])\n",
    ">>> for stooge in quotes:\n",
    "        print(stooge)"
   ]
  },
  {
   "cell_type": "markdown",
   "id": "9a87f3c0-1637-4184-91c4-14404c78db36",
   "metadata": {
    "jp-MarkdownHeadingCollapsed": true
   },
   "source": [
    "### 5.5.4 双端队列：栈+队列"
   ]
  },
  {
   "cell_type": "markdown",
   "id": "2128eb6a-e5f0-4dcf-9b9a-22b251c4983c",
   "metadata": {},
   "source": [
    "deque 是一种双端队列，同时具有栈和队列的特征。它可以从序列的任何一端添加和删除\n",
    "项。现在，我们从一个词的两端扫向中间，判断是否为回文。函数popleft() 去掉最左边\n",
    "的项并返回该项，pop() 去掉最右边的项并返回该项。从两边一直向中间扫描，只要两端\n",
    "的字符匹配，一直弹出直到到达中间："
   ]
  },
  {
   "cell_type": "code",
   "execution_count": null,
   "id": "081c9bbd-0ac1-4ee1-b43e-2904e4356fef",
   "metadata": {},
   "outputs": [],
   "source": [
    ">>> def palindrome(word):\n",
    "        from collections import deque\n",
    "        dq = deque(word)\n",
    "        while len(dq) > 1:\n",
    "            if dq.popleft() != dq.pop():\n",
    "                return False\n",
    "        return True"
   ]
  },
  {
   "cell_type": "code",
   "execution_count": null,
   "id": "263ccb9d-bdc9-494d-9c26-194ca442f2c5",
   "metadata": {},
   "outputs": [],
   "source": [
    ">>> palindrome('a')"
   ]
  },
  {
   "cell_type": "code",
   "execution_count": null,
   "id": "d14bd622-6b0c-49f1-b248-0227aa2b4c9e",
   "metadata": {},
   "outputs": [],
   "source": [
    ">>> palindrome('racecar')"
   ]
  },
  {
   "cell_type": "code",
   "execution_count": null,
   "id": "98167b56-2db5-4852-8ba3-d73a845898b7",
   "metadata": {},
   "outputs": [],
   "source": [
    ">>> palindrome('')"
   ]
  },
  {
   "cell_type": "code",
   "execution_count": null,
   "id": "e27a935a-1a3e-46d2-bdec-3a5ce55ecc13",
   "metadata": {},
   "outputs": [],
   "source": [
    ">>> palindrome('radar')"
   ]
  },
  {
   "cell_type": "code",
   "execution_count": null,
   "id": "d8581327-e801-463f-810e-40e026e6e994",
   "metadata": {},
   "outputs": [],
   "source": [
    ">>> palindrome('halibut')"
   ]
  },
  {
   "cell_type": "markdown",
   "id": "1107d0b8-6afd-4e3d-a738-1918d7d99c84",
   "metadata": {
    "jp-MarkdownHeadingCollapsed": true
   },
   "source": [
    "### 5.5.5 使用itertools迭代代码结构"
   ]
  },
  {
   "cell_type": "markdown",
   "id": "812cce5c-912b-478a-9386-9e770125a4e5",
   "metadata": {},
   "source": [
    "itertools在\n",
    "for ... in 循环中调用迭代函数，每次会返回一项，并记住当前调用的状态。"
   ]
  },
  {
   "cell_type": "markdown",
   "id": "7d5760bf-d806-4c1d-84f0-d86f0d325559",
   "metadata": {},
   "source": [
    "即使chain() 的参数只是单个迭代对象，它也会使用参数进行迭代："
   ]
  },
  {
   "cell_type": "code",
   "execution_count": 5,
   "id": "ca731ddb-e03d-43c6-8684-7e199209dc80",
   "metadata": {},
   "outputs": [
    {
     "name": "stdout",
     "output_type": "stream",
     "text": [
      "1\n",
      "2\n",
      "a\n",
      "b\n"
     ]
    }
   ],
   "source": [
    ">>> import itertools\n",
    ">>> for item in itertools.chain([1, 2], ['a', 'b']):\n",
    "        print(item)"
   ]
  },
  {
   "cell_type": "code",
   "execution_count": 8,
   "id": "4a044438-7872-4c92-8aa6-79a72ae2fb42",
   "metadata": {},
   "outputs": [
    {
     "data": {
      "text/plain": [
       "<itertools.chain at 0x126f4cb5b40>"
      ]
     },
     "execution_count": 8,
     "metadata": {},
     "output_type": "execute_result"
    }
   ],
   "source": [
    "itertools.chain([1, 2], ['a', 'b'])"
   ]
  },
  {
   "cell_type": "markdown",
   "id": "3b4bc2d2-1ef3-4486-9dea-cd5bcd2cef96",
   "metadata": {},
   "source": [
    "cycle() 是一个在它的参数之间循环的无限迭代器："
   ]
  },
  {
   "cell_type": "code",
   "execution_count": 4,
   "id": "34e8f58b-18e5-45f5-b9e7-5b87793fc5ff",
   "metadata": {},
   "outputs": [
    {
     "data": {
      "text/plain": [
       "<itertools.cycle at 0x126f4d79e80>"
      ]
     },
     "execution_count": 4,
     "metadata": {},
     "output_type": "execute_result"
    }
   ],
   "source": [
    ">>> import itertools\n",
    "itertools.cycle([1, 2])"
   ]
  },
  {
   "cell_type": "markdown",
   "id": "3d2c33b0-9466-48f2-988b-bd2647ac7a4e",
   "metadata": {},
   "source": [
    "accumulate() 计算累积的值。默认的话，它计算的是累加和："
   ]
  },
  {
   "cell_type": "code",
   "execution_count": 9,
   "id": "6f2a3328-82cd-4c7e-9038-dda922ea3732",
   "metadata": {},
   "outputs": [
    {
     "name": "stdout",
     "output_type": "stream",
     "text": [
      "1\n",
      "3\n",
      "6\n",
      "10\n"
     ]
    }
   ],
   "source": [
    ">>> import itertools\n",
    ">>> for item in itertools.accumulate([1, 2, 3, 4]):\n",
    "        print(item)"
   ]
  },
  {
   "cell_type": "markdown",
   "id": "6fd68931-44d2-4096-a9ce-76592768f9e1",
   "metadata": {},
   "source": [
    "你可以把一个函数作为accumulate() 的第二个参数，代替默认的加法函数。这个参数函数\n",
    "应该接受两个参数，返回单个结果。下面的例子计算的是乘积："
   ]
  },
  {
   "cell_type": "code",
   "execution_count": 10,
   "id": "43343128-c828-48c2-9e9a-7f899a23a521",
   "metadata": {},
   "outputs": [
    {
     "name": "stdout",
     "output_type": "stream",
     "text": [
      "1\n",
      "2\n",
      "6\n",
      "24\n"
     ]
    }
   ],
   "source": [
    ">>> import itertools\n",
    ">>> def multiply(a, b):\n",
    "        return a * b\n",
    ">>> for item in itertools.accumulate([1, 2, 3, 4], multiply):\n",
    "        print(item)"
   ]
  },
  {
   "cell_type": "markdown",
   "id": "e0e7c6de-69ec-45bb-9cc9-041628376336",
   "metadata": {},
   "source": [
    "itertools 模块有很多其他的函数，有一些可以用在需要节省时间的组合和排列问题上。"
   ]
  },
  {
   "cell_type": "markdown",
   "id": "97ca3df2-a818-43ec-8bf6-df1b3519aaee",
   "metadata": {
    "jp-MarkdownHeadingCollapsed": true
   },
   "source": [
    "### 5.5.6 使用pprint()友好输出"
   ]
  },
  {
   "cell_type": "code",
   "execution_count": 13,
   "id": "7db9f89e-2521-4572-a4e1-c632c1291c37",
   "metadata": {
    "scrolled": true
   },
   "outputs": [],
   "source": [
    ">>> from pprint import pprint\n",
    ">>> quotes = OrderedDict([\n",
    "        ('Moe', 'A wise guy, huh?'),\n",
    "        ('Larry', 'Ow!'),\n",
    "        ('Curly', 'Nyuk nyuk!'),\n",
    "        ])"
   ]
  },
  {
   "cell_type": "code",
   "execution_count": 14,
   "id": "6ffa8519-5a01-4cbb-9101-f86e2829a17f",
   "metadata": {},
   "outputs": [
    {
     "name": "stdout",
     "output_type": "stream",
     "text": [
      "OrderedDict([('Moe', 'A wise guy, huh?'), ('Larry', 'Ow!'), ('Curly', 'Nyuk nyuk!')])\n"
     ]
    }
   ],
   "source": [
    ">>> print(quotes)"
   ]
  },
  {
   "cell_type": "code",
   "execution_count": 16,
   "id": "f20debe1-a909-41e5-a5c3-7dfa8a86aa52",
   "metadata": {},
   "outputs": [
    {
     "name": "stdout",
     "output_type": "stream",
     "text": [
      "OrderedDict([('Moe', 'A wise guy, huh?'),\n",
      "             ('Larry', 'Ow!'),\n",
      "             ('Curly', 'Nyuk nyuk!')])\n"
     ]
    }
   ],
   "source": [
    ">>> pprint(quotes)"
   ]
  }
 ],
 "metadata": {
  "kernelspec": {
   "display_name": "Python 3 (ipykernel)",
   "language": "python",
   "name": "python3"
  },
  "language_info": {
   "codemirror_mode": {
    "name": "ipython",
    "version": 3
   },
   "file_extension": ".py",
   "mimetype": "text/x-python",
   "name": "python",
   "nbconvert_exporter": "python",
   "pygments_lexer": "ipython3",
   "version": "3.11.7"
  }
 },
 "nbformat": 4,
 "nbformat_minor": 5
}
