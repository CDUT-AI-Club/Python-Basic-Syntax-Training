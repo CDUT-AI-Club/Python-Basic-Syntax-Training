{
 "cells": [
  {
   "cell_type": "markdown",
   "id": "fbd6877f-2aff-48a7-b62e-a1260edd6734",
   "metadata": {
    "jp-MarkdownHeadingCollapsed": true
   },
   "source": [
    "## 4.6 推导式"
   ]
  },
  {
   "cell_type": "markdown",
   "id": "97f8bd00-7d6c-4c6c-9071-f193aa30bfa3",
   "metadata": {},
   "source": [
    "推导式是从一个或者多个迭代器快速简洁地创建数据结构的一种方法。它可以将循环和条\n",
    "件判断结合，从而避免语法冗长的代码。"
   ]
  },
  {
   "cell_type": "markdown",
   "id": "8c85879b-ccf2-4812-8c0b-3b5efd4272da",
   "metadata": {},
   "source": [
    "### 4.6.1 列表推导式"
   ]
  },
  {
   "cell_type": "code",
   "execution_count": null,
   "id": "03c8e948-bff2-4078-9559-a97e654da9aa",
   "metadata": {},
   "outputs": [],
   "source": [
    ">>> number_list = [] #每次增加一项\n",
    ">>> number_list.append(1)\n",
    ">>> number_list.append(2)\n",
    ">>> number_list.append(3)\n",
    ">>> number_list.append(4)\n",
    ">>> number_list.append(5)\n",
    ">>> number_list"
   ]
  },
  {
   "cell_type": "code",
   "execution_count": null,
   "id": "ed2c9c68-36d7-4839-908f-53e6a0e55e00",
   "metadata": {},
   "outputs": [],
   "source": [
    ">>> number_list = [] #结合 range() 函数使用一个迭代器（for循环）\n",
    ">>> for number in range(1, 6):\n",
    "    number_list.append(number)\n",
    "\n",
    ">>> number_list"
   ]
  },
  {
   "cell_type": "code",
   "execution_count": null,
   "id": "acf8ba98-b1a8-448f-acbe-00fb9030164e",
   "metadata": {},
   "outputs": [],
   "source": [
    ">>> number_list = list(range(1, 6))  #直接把 range() 的返回结果放到一个列表中\n",
    ">>> number_list"
   ]
  },
  {
   "cell_type": "markdown",
   "id": "cdba7190-2674-4305-b8ca-c66b7e7556f3",
   "metadata": {},
   "source": [
    "1、列表推导式的形式\n",
    "\n",
    "expression for item in iterable"
   ]
  },
  {
   "cell_type": "code",
   "execution_count": null,
   "id": "c25e0d53-964b-4063-b8e4-9933a714800b",
   "metadata": {},
   "outputs": [],
   "source": [
    ">>> number_list = [number for number in range(1,6)]\n",
    ">>> number_list"
   ]
  },
  {
   "cell_type": "code",
   "execution_count": null,
   "id": "5b418b00-0f70-4ee0-b330-857f4dced85d",
   "metadata": {},
   "outputs": [],
   "source": [
    ">>> number_list = [number-1 for number in range(1,6)]\n",
    ">>> number_list"
   ]
  },
  {
   "cell_type": "markdown",
   "id": "7fb83019-bbfb-4644-a2cd-e16aa3845b40",
   "metadata": {},
   "source": [
    "2、列表推导式的形式2\n",
    "\n",
    "expression for item in iterable if condition"
   ]
  },
  {
   "cell_type": "code",
   "execution_count": null,
   "id": "950e6475-783b-4c14-84b5-20ac76a0f87a",
   "metadata": {},
   "outputs": [],
   "source": [
    ">>> a_list = [number for number in range(1,6) if number % 2 == 1]\n",
    ">>> a_list"
   ]
  },
  {
   "cell_type": "markdown",
   "id": "180a9612-8fc9-4b74-b48b-a2071fda4683",
   "metadata": {},
   "source": [
    "3、对于两个变量的推导"
   ]
  },
  {
   "cell_type": "code",
   "execution_count": null,
   "id": "03233f2f-a1f9-4c62-98c3-e651fd19f34b",
   "metadata": {},
   "outputs": [],
   "source": [
    ">>> rows = range(1,4)\n",
    ">>> cols = range(1,3)\n",
    ">>> cells = [(row, col) for row in rows for col in cols]\n",
    ">>> print(cells)"
   ]
  },
  {
   "cell_type": "markdown",
   "id": "e521744a-82ab-4fbe-a778-d72279f5af48",
   "metadata": {},
   "source": [
    "上述代码，在列表推导中 for row ... 和 for col ... 都可以有自己单独的 if 条件判断"
   ]
  },
  {
   "cell_type": "markdown",
   "id": "d26e5596-e1b8-401a-82f8-ef22105242c0",
   "metadata": {},
   "source": [
    "### 4.6.2 字典推导式"
   ]
  },
  {
   "cell_type": "markdown",
   "id": "45e2b280-c8c4-4bbb-be86-7775da007e1c",
   "metadata": {},
   "source": [
    "{ key_expression : value_expression for expression in iterable }"
   ]
  },
  {
   "cell_type": "code",
   "execution_count": null,
   "id": "2beb9b84-f8b4-4eb5-9746-92a1f9478e16",
   "metadata": {},
   "outputs": [],
   "source": [
    ">>> word = 'letters'\n",
    ">>> letter_counts = {letter: word.count(letter) for letter in word}\n",
    ">>> letter_counts"
   ]
  },
  {
   "cell_type": "code",
   "execution_count": null,
   "id": "14ba28f5-936c-49dd-aa13-3ea4caa54670",
   "metadata": {},
   "outputs": [],
   "source": [
    ">>> word = 'letters'\n",
    ">>> letter_counts = {letter: word.count(letter) for letter in set(word)}\n",
    ">>> letter_counts"
   ]
  },
  {
   "cell_type": "markdown",
   "id": "409e8b2a-8f41-4a7b-a134-934ea597e922",
   "metadata": {},
   "source": [
    "### 4.6.3 集合推导式\n",
    "\n",
    "{expression for expression in iterable }"
   ]
  },
  {
   "cell_type": "code",
   "execution_count": null,
   "id": "6e067422-2f99-4be5-b321-e7277c57b8b3",
   "metadata": {},
   "outputs": [],
   "source": [
    ">>> a_set = {number for number in range(1,6) if number % 3 == 1}\n",
    ">>> a_set"
   ]
  },
  {
   "cell_type": "markdown",
   "id": "af90b0b0-2ecc-485e-b2b5-16a582feb883",
   "metadata": {},
   "source": [
    "### 4.6.4 生成器推导式"
   ]
  },
  {
   "cell_type": "markdown",
   "id": "0bd6d060-89d2-442a-950d-9f3adb800748",
   "metadata": {},
   "source": [
    "元组是没有推导式的\n",
    "\n",
    "将列表推导式中的方括号变成圆括号是生成器推导式"
   ]
  },
  {
   "cell_type": "code",
   "execution_count": null,
   "id": "e162121c-cebc-4b35-bdd8-31501a172da6",
   "metadata": {},
   "outputs": [],
   "source": [
    ">>> number_thing = (number for number in range(1, 6))\n",
    ">>> print(number_thing)"
   ]
  },
  {
   "cell_type": "code",
   "execution_count": null,
   "id": "87260cd7-6d0e-4241-bb08-cb493a8a8355",
   "metadata": {},
   "outputs": [],
   "source": [
    ">>> type(number_thing)"
   ]
  },
  {
   "cell_type": "code",
   "execution_count": null,
   "id": "d3e1454b-973e-406b-9663-9d75e8bf5951",
   "metadata": {},
   "outputs": [],
   "source": [
    ">>> for number in number_thing:\n",
    "    print(number)"
   ]
  },
  {
   "cell_type": "markdown",
   "id": "ad5e686b-1e00-4704-925d-8ab7a808f703",
   "metadata": {},
   "source": [
    "一个生成器只能运行一次。列表、集合、字符串和字典都存储在内存中，但是生成器仅在运行中产生值，不会被存下来，所以不能重新使用或者备份一个生成器。"
   ]
  },
  {
   "cell_type": "code",
   "execution_count": null,
   "id": "d488558c-e042-4bcd-9d8b-509d361b3c05",
   "metadata": {},
   "outputs": [],
   "source": [
    ">>> number_list = list(number_thing)\n",
    ">>> number_list"
   ]
  },
  {
   "cell_type": "markdown",
   "id": "ceaee222-e3e5-4ba1-80a4-631e564de644",
   "metadata": {
    "jp-MarkdownHeadingCollapsed": true
   },
   "source": [
    "## 4.7 函数"
   ]
  },
  {
   "cell_type": "markdown",
   "id": "9e3a966d-c55f-456f-884b-f27bca09978a",
   "metadata": {},
   "source": [
    "实现功能：定义函数、调用函数"
   ]
  },
  {
   "cell_type": "markdown",
   "id": "0b7cea93-84c9-4237-8673-ba37eeb7837a",
   "metadata": {},
   "source": [
    "为了定义 Python 函数，你可以依次输入 def、函数名、带有函数参数的圆括号，最后紧跟\n",
    "一个冒号（:）。函数命名规范和变量命名一样（必须使用字母或者下划线 _ 开头，仅能\r\n",
    "有字母、数字和下划线）"
   ]
  },
  {
   "cell_type": "markdown",
   "id": "8022435f-cf87-4c5e-9b30-01de9aabface",
   "metadata": {},
   "source": [
    "1、我们先定义和调用一个没有参数的函数。下面的例子是最简单的 Python 函数"
   ]
  },
  {
   "cell_type": "code",
   "execution_count": null,
   "id": "1e80d124-3942-4fdf-9b15-c6f500860f1b",
   "metadata": {},
   "outputs": [],
   "source": [
    ">>> def do_nothing():\n",
    "        pass"
   ]
  },
  {
   "cell_type": "markdown",
   "id": "a06ef2ec-655d-47fe-a63f-5b4087b20d72",
   "metadata": {},
   "source": [
    "即使对于一个没有参数的函数，仍然需要在定义时加上圆括号和冒号。"
   ]
  },
  {
   "cell_type": "code",
   "execution_count": null,
   "id": "84d12e33-de42-4a60-aac8-63ee5e4626bb",
   "metadata": {},
   "outputs": [],
   "source": [
    ">>> do_nothing()"
   ]
  },
  {
   "cell_type": "markdown",
   "id": "c46f4531-2a4f-49e1-9588-9f148e1dc9e2",
   "metadata": {},
   "source": [
    "2、现在，定义一个无参数，但打印输出一个单词的函数："
   ]
  },
  {
   "cell_type": "code",
   "execution_count": null,
   "id": "d13af5c3-5e20-4d97-b010-dfe7da0f0a11",
   "metadata": {},
   "outputs": [],
   "source": [
    ">>> def make_a_sound():\n",
    "        print('quack')\n",
    ">>> make_a_sound()"
   ]
  },
  {
   "cell_type": "markdown",
   "id": "20b61bb2-63b1-4627-a72e-22886bc5446b",
   "metadata": {},
   "source": [
    "3、下面尝试一个没有参数但返回值的函数："
   ]
  },
  {
   "cell_type": "code",
   "execution_count": null,
   "id": "e1b9e529-49d2-4a36-a297-4d537fde9e71",
   "metadata": {},
   "outputs": [],
   "source": [
    ">>> def agree():\n",
    "        return True\n",
    ">>> if agree():\n",
    "        print('Splendid!')"
   ]
  },
  {
   "cell_type": "markdown",
   "id": "54cd4439-a746-4a22-9749-17749494defd",
   "metadata": {},
   "source": [
    "4、定义带有一个 anything 参数的函数 echo()。它使用\n",
    "return 语句将 anything 返回给它的调用者两次，并在两次中间加入一个空格："
   ]
  },
  {
   "cell_type": "code",
   "execution_count": null,
   "id": "20c05057-342c-4fa6-9002-e8ec90bbe6eb",
   "metadata": {},
   "outputs": [],
   "source": [
    ">>> def echo(anything):\n",
    "        return anything + ' ' + anything\n",
    ">>> echo('echo')"
   ]
  },
  {
   "cell_type": "markdown",
   "id": "5ccd3f46-302b-4f1d-8bd3-2bf59700d3c6",
   "metadata": {},
   "source": [
    "传入到函数的值称为参数。当调用含参数的函数时，这些参数的值会被复制给函数中的对应参数。"
   ]
  },
  {
   "cell_type": "markdown",
   "id": "c62d4e5d-461a-459f-80f9-adfa0b2e1fbd",
   "metadata": {},
   "source": [
    "5、现在我们写一个含有输入参数的函数，它能真正处理一些\n",
    "事情。在这里依旧沿用评论颜色的代码段。调用 commentary 函数，把 color 作为输入的\r\n",
    "数，使它返回对颜色的评论字符：\r"
   ]
  },
  {
   "cell_type": "code",
   "execution_count": null,
   "id": "bb6d931b-965e-461e-a8f1-b84a2f23e5f8",
   "metadata": {},
   "outputs": [],
   "source": [
    ">>> def commentary(color):\n",
    "         if color == 'red':\n",
    "             return \"It's a tomato.\"\n",
    "         elif color == \"green\":\n",
    "             return \"It's a green pepper.\"\n",
    "         elif color == 'bee purple':\n",
    "             return \"I don't know what it is, but only bees can see it.\"\n",
    "         else:\n",
    "             return \"I've never heard of the color \" + color + \".\""
   ]
  },
  {
   "cell_type": "code",
   "execution_count": null,
   "id": "55341a00-931c-46c6-b909-c3417f6ae230",
   "metadata": {},
   "outputs": [],
   "source": [
    ">>> comment = commentary('blue')\n",
    ">>> print(comment)"
   ]
  },
  {
   "cell_type": "markdown",
   "id": "19f04f65-9bf1-43f1-b5ee-c9c66efee0e1",
   "metadata": {},
   "source": [
    "6、一个函数可以接受任何数量（包括 0）的任何类型的值作为输入变量，并且返回任何数量\n",
    "（包括 0）的任何类型的结果。如果函数不显式调用 return 函数，那么会默认返回 None"
   ]
  },
  {
   "cell_type": "code",
   "execution_count": null,
   "id": "d106b6c5-189b-48df-833c-6c4f454343f3",
   "metadata": {},
   "outputs": [],
   "source": [
    ">>> print(do_nothing())"
   ]
  },
  {
   "cell_type": "markdown",
   "id": "013a40a1-8c56-4cff-9e2e-0348162b4548",
   "metadata": {},
   "source": [
    "### 4.7.1 位置参数"
   ]
  },
  {
   "cell_type": "markdown",
   "id": "9a57c318-c316-47f1-af00-7507ca10f7cd",
   "metadata": {},
   "source": [
    "即传\n",
    "入参数的值是按照顺序依次复制过去的"
   ]
  },
  {
   "cell_type": "code",
   "execution_count": null,
   "id": "7abbd920-5191-4d47-8de9-7f8ea11ad511",
   "metadata": {},
   "outputs": [],
   "source": [
    ">>> def menu(wine, entree, dessert):\n",
    "        return {'wine': wine, 'entree': entree, 'dessert': dessert}\n",
    ">>> menu('chardonnay', 'chicken', 'cake')"
   ]
  },
  {
   "cell_type": "markdown",
   "id": "ec5eb28a-c59c-419c-8b6a-1b638bcc6377",
   "metadata": {},
   "source": [
    "这种方式很常见，但是位置参数的一个弊端是必须熟记每个位置的参数的含义"
   ]
  },
  {
   "cell_type": "markdown",
   "id": "464720cc-05c1-4d3c-959e-dc838c8a4a46",
   "metadata": {},
   "source": [
    "### 4.7.2 关键字参数"
   ]
  },
  {
   "cell_type": "markdown",
   "id": "0b7c1d37-6e27-49e6-8a62-1c5413bd3c9f",
   "metadata": {},
   "source": [
    "为了避免位置参数带来的混乱，调用参数时可以指定对应参数的名字\n",
    "\n",
    "于是便可以采用与函\n",
    "数定义不同的顺序调用："
   ]
  },
  {
   "cell_type": "code",
   "execution_count": null,
   "id": "7ba136d5-f5a2-4b3a-9404-fe8e716a38b8",
   "metadata": {},
   "outputs": [],
   "source": [
    ">>> menu(entree='beef', dessert='bagel', wine='bordeaux')"
   ]
  },
  {
   "cell_type": "markdown",
   "id": "b0db0d6f-8209-4a26-9050-91f69be19c80",
   "metadata": {},
   "source": [
    "注：如果同时出现两种参数形式，首先应该考虑的是位置参数"
   ]
  },
  {
   "cell_type": "code",
   "execution_count": null,
   "id": "86f5dc9a-ab08-457a-883f-cd2536aa1721",
   "metadata": {},
   "outputs": [],
   "source": [
    ">>> menu('chardonnay',entree='beef', dessert='bagel')"
   ]
  },
  {
   "cell_type": "code",
   "execution_count": null,
   "id": "1a8aced4-2a1c-46e6-bfa1-c6ecd185d9b0",
   "metadata": {},
   "outputs": [],
   "source": [
    ">>> menu(entree='beef', dessert='bagel','chardonnay')"
   ]
  },
  {
   "cell_type": "code",
   "execution_count": null,
   "id": "dc049f14-b2ec-4e6f-b9a3-c11b004b6021",
   "metadata": {},
   "outputs": [],
   "source": [
    ">>> menu('chardonnay',entree='beef', dessert='bagel',wine='bordeaux')"
   ]
  },
  {
   "cell_type": "markdown",
   "id": "05608b92-89e6-47a1-adb4-a988ce2a7285",
   "metadata": {},
   "source": [
    "### 4.7.3 指定默认参数值"
   ]
  },
  {
   "cell_type": "markdown",
   "id": "d15a5a4d-1381-45de-ae79-9dafd87efeb4",
   "metadata": {},
   "source": [
    "1、当调用方没有提供对应的参数值时，你可以指定默认参数值"
   ]
  },
  {
   "cell_type": "code",
   "execution_count": null,
   "id": "c48503df-7f6e-4652-a204-e7f54fe9332e",
   "metadata": {},
   "outputs": [],
   "source": [
    ">>> def menu(wine, entree, dessert='pudding'):\n",
    "         return {'wine': wine, 'entree': entree, 'dessert': dessert}"
   ]
  },
  {
   "cell_type": "markdown",
   "id": "674ef002-7c5e-40b9-a912-67426530a0ef",
   "metadata": {},
   "source": [
    "这一次调用不带 dessert 参数的函数 menu()："
   ]
  },
  {
   "cell_type": "code",
   "execution_count": null,
   "id": "e6f5bc3a-4a58-4f0e-9c06-a06eaef9fe1f",
   "metadata": {},
   "outputs": [],
   "source": [
    ">>> menu('chardonnay', 'chicken')"
   ]
  },
  {
   "cell_type": "markdown",
   "id": "7d4a2d0e-65a8-4fe0-b2c4-063f6b17e42e",
   "metadata": {},
   "source": [
    "2、如果你提供参数值，在调用时会代替默认值："
   ]
  },
  {
   "cell_type": "code",
   "execution_count": null,
   "id": "e54f7dfb-2677-4225-bb23-1471fd2873a2",
   "metadata": {},
   "outputs": [],
   "source": [
    ">>> menu('dunkelfelder', 'duck', 'doughnut')"
   ]
  },
  {
   "cell_type": "markdown",
   "id": "8111c210-27d4-4fed-b956-f4d24c74fa3f",
   "metadata": {},
   "source": [
    "### 4.7.4 使用*收集位置参数"
   ]
  },
  {
   "cell_type": "markdown",
   "id": "7174a992-b033-4bcd-8b63-bf89bb6d8b64",
   "metadata": {},
   "source": [
    "如果你之前使用 C/C++ 编程，可能会认为 Python 中的星号（*）和指针相关。然而，\r\n",
    "Python 是没有指针概念的。"
   ]
  },
  {
   "cell_type": "markdown",
   "id": "91ef0ec7-49e1-43d2-b670-56bedb555588",
   "metadata": {},
   "source": [
    "1、当参数被用在函数内部时，星号将一组可变数量的位置参数集合成参数值的元组。\n",
    "\n",
    "在下面的例子中 args 是传入到函数 print_args() 的参数值的元组："
   ]
  },
  {
   "cell_type": "code",
   "execution_count": null,
   "id": "efd0831e-5f4c-4b0e-a72a-bb6c4a04fe70",
   "metadata": {},
   "outputs": [],
   "source": [
    ">>> def print_args(*args):\n",
    "        print('Positional argument tuple:', args)"
   ]
  },
  {
   "cell_type": "code",
   "execution_count": null,
   "id": "1e5712b0-1254-40b4-bd85-ca9a546d9396",
   "metadata": {},
   "outputs": [],
   "source": [
    ">>> print_args() #无参数调用函数，则什么也不会返回："
   ]
  },
  {
   "cell_type": "markdown",
   "id": "d0c7aa5a-7a30-4ca1-b022-075206455df7",
   "metadata": {},
   "source": [
    "给函数传入的所有参数都会以元组的形式返回输出："
   ]
  },
  {
   "cell_type": "code",
   "execution_count": null,
   "id": "3403f232-198b-4b03-b149-500fba64ef24",
   "metadata": {},
   "outputs": [],
   "source": [
    ">>> print_args(3, 2, 1, 'wait!', 'uh...')"
   ]
  },
  {
   "cell_type": "markdown",
   "id": "d60ad5bb-6091-496d-8c3e-84cbcb23c69e",
   "metadata": {},
   "source": [
    "2、这样的技巧对于编写像 print() 一样接受可变数量的参数的函数是非常有用的。\n",
    "\n",
    "如果你的\n",
    "函数同时有限定的位置参数，那么 *args 会收集剩下的参数："
   ]
  },
  {
   "cell_type": "code",
   "execution_count": null,
   "id": "30e63753-05a2-43b7-82ad-d551c0e3fcb2",
   "metadata": {},
   "outputs": [],
   "source": [
    ">>> def print_more(required1, required2, *args):\n",
    "        print('Need this one:', required1)\n",
    "        print('Need this one too:', required2)\n",
    "        print('All the rest:', args)\n",
    ">>> print_more('cap', 'gloves', 'scarf', 'monocle', 'mustache wax')"
   ]
  },
  {
   "cell_type": "markdown",
   "id": "82a8bab6-3220-4b58-99f5-48d6fff1d39d",
   "metadata": {},
   "source": [
    "### 4.7.5 使用**收集关键字参数"
   ]
  },
  {
   "cell_type": "markdown",
   "id": "88ef5561-febd-412d-bfc6-b7f4d47d43fa",
   "metadata": {},
   "source": [
    "使用两个星号可以将参数收集到一个字典中，参数的名字是字典的键，对应参数的值是字\n",
    "典的值\n",
    "\n",
    "。下面的例子定义了函数 print_kwargs()，然后打印输出它的关键字参数："
   ]
  },
  {
   "cell_type": "code",
   "execution_count": null,
   "id": "866a9b96-51ef-4f3d-8c32-71627adbfebd",
   "metadata": {},
   "outputs": [],
   "source": [
    ">>> def print_kwargs(**kwargs):\n",
    "        print('Keyword arguments:', kwargs)"
   ]
  },
  {
   "cell_type": "code",
   "execution_count": null,
   "id": "f7a199b0-7fbe-4bd7-903a-ba742c7535c1",
   "metadata": {},
   "outputs": [],
   "source": [
    ">>> print_kwargs(wine='merlot', entree='mutton', dessert='macaroon')"
   ]
  },
  {
   "cell_type": "markdown",
   "id": "da309223-2888-463d-bd2e-db9d8a5fefe0",
   "metadata": {},
   "source": [
    "### 4.7.6 文档字符串"
   ]
  },
  {
   "cell_type": "markdown",
   "id": "e4224316-88cb-4d54-a3c7-ceddd63d9159",
   "metadata": {},
   "source": [
    "在函数体\n",
    "开始的部分附上函数定义说明的文档，这就是函数的文档字符串："
   ]
  },
  {
   "cell_type": "code",
   "execution_count": null,
   "id": "e0bcd313-3d30-45f3-a626-98f88ceac46b",
   "metadata": {},
   "outputs": [],
   "source": [
    ">>> def echo(anything):\n",
    "        'echo returns its input argument'\n",
    "        return anything"
   ]
  },
  {
   "cell_type": "markdown",
   "id": "ae76430f-4ba7-4581-a150-43777805d292",
   "metadata": {},
   "source": [
    "可以定义非常长的文档字符串，加上详细的规范说明，如下所示："
   ]
  },
  {
   "cell_type": "code",
   "execution_count": null,
   "id": "a675be24-2b2a-4c76-bfb4-c1b873d00fec",
   "metadata": {},
   "outputs": [],
   "source": [
    "def print_if_true(thing, check):\n",
    "    '''\n",
    "    Prints the first argument if a second argument is true.\n",
    "    The operation is:\n",
    "    1. Check whether the *second* argument is true.\n",
    "    2. If it is, print the *first* argument.\n",
    "    '''\n",
    "    if check:\n",
    "        print(thing)"
   ]
  },
  {
   "cell_type": "markdown",
   "id": "8a1ecda6-83a7-451d-8e55-163307a4792d",
   "metadata": {},
   "source": [
    "调用 Python 函数 help() 可以打印输出一个函数的文档字符串。把函数名传入函数 help()就会得到参数列表和规范的文档："
   ]
  },
  {
   "cell_type": "code",
   "execution_count": null,
   "id": "26e59b82-7818-4099-9737-daed45007c12",
   "metadata": {},
   "outputs": [],
   "source": [
    ">>> help(echo)"
   ]
  },
  {
   "cell_type": "markdown",
   "id": "ce14e338-21b6-4d2b-acc0-1934d8dc061f",
   "metadata": {},
   "source": [
    "如果仅仅想得到文档字符串："
   ]
  },
  {
   "cell_type": "code",
   "execution_count": null,
   "id": "b601da66-c256-4718-b390-eb28f34790af",
   "metadata": {},
   "outputs": [],
   "source": [
    ">>> print(echo.__doc__)"
   ]
  },
  {
   "cell_type": "markdown",
   "id": "7e9f7adb-a508-4501-b26c-0bb700bcc987",
   "metadata": {},
   "source": [
    "### 4.7.8 内部函数"
   ]
  },
  {
   "cell_type": "markdown",
   "id": "0c7084b1-2be6-4dde-bde6-49333b5b3ea7",
   "metadata": {},
   "source": [
    "在 Python 中，可以在函数中定义另外一个函数："
   ]
  },
  {
   "cell_type": "code",
   "execution_count": null,
   "id": "e5a66367-fdba-43cf-9b97-c132baf060f3",
   "metadata": {},
   "outputs": [],
   "source": [
    ">>> def outer(a, b):\n",
    "        def inner(c, d):\n",
    "            return c + d\n",
    "        return inner(a, b)\n",
    ">>> outer(4, 7)"
   ]
  },
  {
   "cell_type": "markdown",
   "id": "318a8537-d9c0-4cc4-82a0-0797ae6d1156",
   "metadata": {},
   "source": [
    "当需要在函数内部多次执行复杂的任务时，内部函数是非常有用的，从而避免了循环和代\r\n",
    "码的堆叠重复。"
   ]
  },
  {
   "cell_type": "code",
   "execution_count": null,
   "id": "90bcd7c2-6ff5-47cb-b34c-5efcce11f946",
   "metadata": {},
   "outputs": [],
   "source": [
    ">>> def knights(saying):\n",
    "        def inner(quote):\n",
    "            return \"We are the knights who say: '%s'\" % quote\n",
    "        return inner(saying)\n",
    ">>> knights('Ni!')"
   ]
  },
  {
   "cell_type": "markdown",
   "id": "b0c9e4b5-5b8c-487c-ac54-dd0b81f5964a",
   "metadata": {},
   "source": [
    "### 4.7.9 闭包"
   ]
  },
  {
   "cell_type": "markdown",
   "id": "390d9955-d3e7-4f93-9b88-fb901d5a677d",
   "metadata": {},
   "source": [
    "内部函数可以看作一个闭包。闭包是一个可以由另一个函数动态生成的函数，并且可以改\n",
    "变和存储函数外创建的变量的值。"
   ]
  },
  {
   "cell_type": "code",
   "execution_count": null,
   "id": "2faf9924-9251-4834-8814-f5d5064138e0",
   "metadata": {},
   "outputs": [],
   "source": [
    ">>> def knights2(saying):\n",
    "        def inner2():\n",
    "            return \"We are the knights who say: '%s'\" % saying\n",
    "        return inner2"
   ]
  },
  {
   "cell_type": "code",
   "execution_count": null,
   "id": "1537d6ca-fd54-4bc5-a4ad-d7378ec2ea15",
   "metadata": {},
   "outputs": [],
   "source": [
    ">>> a = knights2('Duck')\n",
    ">>> b = knights2('Hasenpfeffer')"
   ]
  },
  {
   "cell_type": "code",
   "execution_count": null,
   "id": "1f4bed8e-d823-4955-8885-dbdb2fceafad",
   "metadata": {},
   "outputs": [],
   "source": [
    ">>> type(a)\n",
    ">>> type(b)"
   ]
  },
  {
   "cell_type": "code",
   "execution_count": null,
   "id": "2cd83815-35e2-44e2-9168-44fd9452d580",
   "metadata": {},
   "outputs": [],
   "source": [
    ">>> a\n",
    ">>> b"
   ]
  },
  {
   "cell_type": "code",
   "execution_count": null,
   "id": "9bbb0799-1d30-42b6-9d76-700d1bc51a07",
   "metadata": {},
   "outputs": [],
   "source": [
    ">>> a()"
   ]
  },
  {
   "cell_type": "code",
   "execution_count": null,
   "id": "ab51bb0a-a2e9-4eb4-b75c-5db50d8413b4",
   "metadata": {},
   "outputs": [],
   "source": [
    ">>> b()"
   ]
  },
  {
   "cell_type": "markdown",
   "id": "26256530-76ff-432b-8bc8-0d9a830267c5",
   "metadata": {},
   "source": [
    "### 4.7.10 匿名函数：lamdba()函数"
   ]
  },
  {
   "cell_type": "markdown",
   "id": "6e0007bf-3952-4b41-9243-65626528b589",
   "metadata": {},
   "source": [
    "Python 中，lambda 函数是用一个语句表达的匿名函数。可以用它来代替小的函数。"
   ]
  },
  {
   "cell_type": "code",
   "execution_count": null,
   "id": "7e5116b9-8d36-419c-ae80-c1f0631ddf3e",
   "metadata": {},
   "outputs": [],
   "source": [
    ">>> def edit_story(words, func): #定义一个遍历列表中单词的函数\n",
    "        for word in words:\n",
    "            print(func(word))\n",
    "\n",
    ">>> stairs = ['thud', 'meow', 'thud', 'hiss']\n",
    "\n",
    ">>> def enliven(word): #将每个单词的首字母变为大写，然后在末尾加上感叹号\n",
    "        return word.capitalize() + '!'\n",
    "\n",
    ">>> edit_story(stairs, enliven)"
   ]
  },
  {
   "cell_type": "markdown",
   "id": "eaaf8340-f05c-4334-a760-fe12d1abb1ec",
   "metadata": {},
   "source": [
    "enliven() 函数可以简洁地用下面的一个 lambda 代替："
   ]
  },
  {
   "cell_type": "code",
   "execution_count": null,
   "id": "eab9a324-bfa6-4b71-bae1-bab96473ef45",
   "metadata": {},
   "outputs": [],
   "source": [
    ">>> edit_story(stairs, lambda word: word.capitalize() + '!')"
   ]
  },
  {
   "cell_type": "markdown",
   "id": "9c7fc8aa-3765-47b3-a3e0-39944e1570d2",
   "metadata": {},
   "source": [
    "lambda 函数接收一个参数 word。在冒号和末尾圆括号之间的部分为函数的定义。"
   ]
  },
  {
   "cell_type": "markdown",
   "id": "003a7403-566a-4586-95d4-ea59aa022a17",
   "metadata": {
    "jp-MarkdownHeadingCollapsed": true
   },
   "source": [
    "## 4.8 生成器"
   ]
  },
  {
   "cell_type": "markdown",
   "id": "4dc388e4-116e-4c04-bf6a-1c0cac7c94fc",
   "metadata": {},
   "source": [
    "1、生成器是用来创建 Python 序列的一个对象。使用它可以迭代庞大的序列，且不需要在内\n",
    "存中创建和存储整个序列。通常，生成器是为迭代器产生数据的。\n",
    "\n",
    "2、我们已经\r\n",
    "之前的例子中使用过其中一个，即 range()，来产生一系列整数。"
   ]
  },
  {
   "cell_type": "markdown",
   "id": "50b874bc-a348-445a-9e56-75358112711e",
   "metadata": {},
   "source": [
    "3、每次迭代生成器时，它会记录上一次调用的位置，并且返回下一个值。这一点和普通的函数是不一样的，一般函数都不记录前一次调用，而且都会在函数的第一行开始执行"
   ]
  },
  {
   "cell_type": "markdown",
   "id": "e6ba0500-4674-49e1-b09c-414eb43005de",
   "metadata": {},
   "source": [
    "4、如果你想创建一个比较大的序列，使用生成器推导的代码会很长，这时可以尝试写一个\n",
    "生成器函数。生成器函数和普通函数类似，但是它的返回值使用 yield 语句声明而不return。\n",
    "\n",
    "下面编写我们自己的 range() 函数版本：\r\n"
   ]
  },
  {
   "cell_type": "code",
   "execution_count": null,
   "id": "a52abe7b-7d5e-442a-9ed3-3a3c6f274b27",
   "metadata": {},
   "outputs": [],
   "source": [
    ">>> def my_range(first=0, last=10, step=1):\n",
    "        number = first\n",
    "        while number < last:\n",
    "            yield number\n",
    "            number += step"
   ]
  },
  {
   "cell_type": "code",
   "execution_count": null,
   "id": "102fd0f0-3122-419a-95a4-67db27e9d9e6",
   "metadata": {},
   "outputs": [],
   "source": [
    ">>> my_range #这是一个普通的函数"
   ]
  },
  {
   "cell_type": "code",
   "execution_count": null,
   "id": "6c420d46-a88c-41f3-93a4-8922d92d2022",
   "metadata": {},
   "outputs": [],
   "source": [
    ">>> ranger = my_range(1, 5)\n",
    ">>> ranger #并且它返回的是一个生成器对象"
   ]
  },
  {
   "cell_type": "code",
   "execution_count": null,
   "id": "a14e01a7-fe03-4b8f-8e5f-aafc5d2247ef",
   "metadata": {},
   "outputs": [],
   "source": [
    ">>> for x in ranger: #可以对这个生成器对象进行迭代\n",
    "        print(x)"
   ]
  },
  {
   "cell_type": "markdown",
   "id": "7c1279d3-0e10-4f83-b81d-5f18cbac2ab7",
   "metadata": {
    "jp-MarkdownHeadingCollapsed": true
   },
   "source": [
    "## 4.9 装饰器"
   ]
  },
  {
   "cell_type": "markdown",
   "id": "895bbc70-18ae-4ab3-9146-46f96c159d57",
   "metadata": {},
   "source": [
    "有时你需要在不改变源代码的情况下修改已经存在的函数。常见的例子是增加一句调试声明，以查看传入的参数"
   ]
  },
  {
   "cell_type": "markdown",
   "id": "6a97380d-dc19-41cf-8a8e-aa5d78db7fe7",
   "metadata": {},
   "source": [
    "装饰器实质上是一个函数。它把一个函数作为输入并且返回另外一个函数。\n",
    "\n",
    "在装饰器中，通常使用下面这些 Python 技巧：\n",
    "\n",
    "1、*args 和 **kwargs\n",
    "\n",
    "2、闭包\n",
    "\n",
    "3、作为参数的函数"
   ]
  },
  {
   "cell_type": "markdown",
   "id": "69a8c99c-5d83-4f81-8111-d51b47375a3b",
   "metadata": {},
   "source": [
    "下面的代码，函数 document_it() 定义了一个装饰器，会实现如下功能：\n",
    "\n",
    "1、打印输出函数的名字和参数的值\n",
    "\n",
    "2、执行含有参数的函数\n",
    "\n",
    "3、打印输出结果\n",
    "\n",
    "4、返回修改后的函数"
   ]
  },
  {
   "cell_type": "code",
   "execution_count": null,
   "id": "11dff04a-8500-47fc-b27b-c6a72bd616e5",
   "metadata": {},
   "outputs": [],
   "source": [
    ">>> def document_it(func):\n",
    "        def new_function(*args, **kwargs):\n",
    "            print('Running function:', func.__name__)\n",
    "            print('Positional arguments:', args)\n",
    "            print('Keyword arguments:', kwargs)\n",
    "            result = func(*args, **kwargs) #这里调用func得到func()的结果\n",
    "            print('Result:', result)\n",
    "            return result\n",
    "        return new_function"
   ]
  },
  {
   "cell_type": "markdown",
   "id": "111cb061-dd6d-440a-8409-b4430a978423",
   "metadata": {},
   "source": [
    "无论传入 document_it() 的函数 func 是什么，装饰器都会返回一个新的函数"
   ]
  },
  {
   "cell_type": "code",
   "execution_count": null,
   "id": "6040f225-fb7a-450f-8756-fc2492fe7e3e",
   "metadata": {},
   "outputs": [],
   "source": [
    ">>> def add_ints(a, b):\n",
    "    return a + b"
   ]
  },
  {
   "cell_type": "code",
   "execution_count": null,
   "id": "e7dfd671-dcec-4e85-b6c2-cb0bf2c99ec9",
   "metadata": {},
   "outputs": [],
   "source": [
    ">>> add_ints(3, 5)"
   ]
  },
  {
   "cell_type": "code",
   "execution_count": null,
   "id": "de9d68ab-cb74-42cc-9a48-473c36d36050",
   "metadata": {},
   "outputs": [],
   "source": [
    ">>> cooler_add_ints = document_it(add_ints) # 人工对装饰器赋值 "
   ]
  },
  {
   "cell_type": "code",
   "execution_count": null,
   "id": "10a06962-f7f4-449a-a85d-9f31cff4516a",
   "metadata": {},
   "outputs": [],
   "source": [
    ">>> cooler_add_ints(3, 5)"
   ]
  },
  {
   "cell_type": "code",
   "execution_count": null,
   "id": "2744cc50-9fe7-4609-8de0-0582a17e3f65",
   "metadata": {},
   "outputs": [],
   "source": [
    "@document_it\n",
    "def add_ints(a, b):\n",
    "    return a + b\n",
    "\n",
    "add_ints(3, 5)"
   ]
  },
  {
   "cell_type": "code",
   "execution_count": null,
   "id": "4641dca7-6855-44a1-9e7d-c2a8c7236f80",
   "metadata": {},
   "outputs": [],
   "source": [
    "@document_it\n",
    "def add_ints(a, b):\n",
    "    pass#return a + b\n",
    "\n",
    "add_ints(3, 5)"
   ]
  },
  {
   "cell_type": "markdown",
   "id": "f410c97c-1948-493a-9dcc-07d6af5f4e1c",
   "metadata": {},
   "source": [
    "同样一个函数可以有多个装饰器。下面，我们写一个对结果求平方的装饰器 square_it()："
   ]
  },
  {
   "cell_type": "code",
   "execution_count": null,
   "id": "fe4623b9-b044-4df0-8480-1585692f3818",
   "metadata": {},
   "outputs": [],
   "source": [
    ">>> def square_it(func):\n",
    "        def new_function(*args, **kwargs):\n",
    "            result = func(*args, **kwargs)\n",
    "            return result * result\n",
    "        return new_function"
   ]
  },
  {
   "cell_type": "code",
   "execution_count": null,
   "id": "7ce91ebd-4ed1-4eb0-8c64-f71d1d5708dc",
   "metadata": {},
   "outputs": [],
   "source": [
    "@square_it\n",
    "def add_ints(a, b):\n",
    "    return a + b\n",
    "\n",
    "add_ints(3, 5)"
   ]
  },
  {
   "cell_type": "markdown",
   "id": "91a67db0-e244-4373-b05a-02ce8f467838",
   "metadata": {},
   "source": [
    "靠近函数定义（def 上面）的装饰器最先执行，然后依次执行上面的。任何顺序都会得到\n",
    "相同的最终结果。"
   ]
  },
  {
   "cell_type": "code",
   "execution_count": null,
   "id": "ac1f4cbd-5270-4ee5-ba58-beb12dea6d84",
   "metadata": {},
   "outputs": [],
   "source": [
    "@document_it\n",
    "@square_it\n",
    "def add_ints(a, b):\n",
    "    return a + b\n",
    "add_ints(3, 5)"
   ]
  },
  {
   "cell_type": "code",
   "execution_count": null,
   "id": "a61b6626-f75e-4dd8-98f2-1402f241e209",
   "metadata": {},
   "outputs": [],
   "source": [
    "@square_it\n",
    "@document_it\n",
    "def add_ints(a, b):\n",
    "    return a + b\n",
    "add_ints(3, 5)"
   ]
  },
  {
   "cell_type": "markdown",
   "id": "2d73a3bb-38f2-47a0-a0bd-981e8f7cdf98",
   "metadata": {
    "jp-MarkdownHeadingCollapsed": true
   },
   "source": [
    "## 4.10 命名空间和作用域"
   ]
  },
  {
   "cell_type": "markdown",
   "id": "881600ab-c075-42a0-b40a-ac0a9dd73000",
   "metadata": {},
   "source": [
    "每一个函数定义自己的命名空间。如果在主程序（main）中定义一个变量x，在另外一个\r\n",
    "函数中也定义x 变量，两者指代的是不同的变量。"
   ]
  },
  {
   "cell_type": "markdown",
   "id": "78d9f430-b9ee-46ba-9a0e-f9f10a577764",
   "metadata": {},
   "source": [
    "1、每个程序的主要部分定义了全局命名空间。因此，在这个命名空间的变量是全局变量。\r\n",
    "\n",
    "你可以在一个函数内得到某个全局变量的值："
   ]
  },
  {
   "cell_type": "code",
   "execution_count": null,
   "id": "8fcb29cd-a471-40ef-b02d-9600d0820f48",
   "metadata": {},
   "outputs": [],
   "source": [
    ">>> animal = 'fruitbat'\n",
    ">>> def print_global():\n",
    "        print('inside print_global:', animal)"
   ]
  },
  {
   "cell_type": "code",
   "execution_count": null,
   "id": "12352592-0701-4c68-89bb-c3b918e584df",
   "metadata": {},
   "outputs": [],
   "source": [
    ">>> print('at the top level:', animal)"
   ]
  },
  {
   "cell_type": "code",
   "execution_count": null,
   "id": "c0d45f72-6532-4f8b-8746-cf128590bf91",
   "metadata": {},
   "outputs": [],
   "source": [
    ">>> print_global()"
   ]
  },
  {
   "cell_type": "markdown",
   "id": "9b510981-da84-4f1e-b02a-b433e40ed39a",
   "metadata": {},
   "source": [
    "但是，如果想在函数中得到一个全局变量的值并且改变它，会报错："
   ]
  },
  {
   "cell_type": "code",
   "execution_count": null,
   "id": "098b52cb-68ac-44fa-bfea-304435208cd0",
   "metadata": {},
   "outputs": [],
   "source": [
    ">>> def change_and_print_global():\n",
    "        print('inside change_and_print_global:', animal)\n",
    "        animal = 'wombat'\n",
    "        print('after the change:', animal)"
   ]
  },
  {
   "cell_type": "code",
   "execution_count": null,
   "id": "1d09939c-fd25-492d-b588-1181a3b1b319",
   "metadata": {},
   "outputs": [],
   "source": [
    ">>> change_and_print_global()"
   ]
  },
  {
   "cell_type": "markdown",
   "id": "099a5ea0-61bf-4c59-81c0-41614cb17d07",
   "metadata": {},
   "source": [
    "实际上，你改变的另外一个同样被命名为animal 的变量，只不过这个变量在函数内部："
   ]
  },
  {
   "cell_type": "code",
   "execution_count": null,
   "id": "7772410e-5126-4164-8e97-1ee98d97821f",
   "metadata": {},
   "outputs": [],
   "source": [
    ">>> def change_local():\n",
    "        animal = 'wombat'\n",
    "        print('inside change_local:', animal, id(animal))\n",
    ">>> change_local()"
   ]
  },
  {
   "cell_type": "code",
   "execution_count": null,
   "id": "c4eee14b-7bff-461f-9305-018970b6d10b",
   "metadata": {},
   "outputs": [],
   "source": [
    ">>> animal"
   ]
  },
  {
   "cell_type": "code",
   "execution_count": null,
   "id": "91e0b657-3733-485c-991c-caa51de40af2",
   "metadata": {},
   "outputs": [],
   "source": [
    ">>> id(animal)"
   ]
  },
  {
   "cell_type": "markdown",
   "id": "f487669e-1878-42b9-960a-fa54ce608d71",
   "metadata": {},
   "source": [
    "这里发生了什么？在函数第一行将字符串fruitbat 赋值给全局变量animal。函数change_\n",
    "local() 也有一个叫作animal 的变量。不同的是，它在自己的局部命名空间。"
   ]
  },
  {
   "cell_type": "markdown",
   "id": "0ef00244-b0be-4192-8861-a81a4b67fc5f",
   "metadata": {},
   "source": [
    "2、为了读取全局变量而不是函数中的局部变量，需要在变量前面显式地加关键字global"
   ]
  },
  {
   "cell_type": "code",
   "execution_count": null,
   "id": "c8cef33b-26b6-48f6-9182-17a829e06644",
   "metadata": {},
   "outputs": [],
   "source": [
    ">>> animal = 'fruitbat'\n",
    ">>> def change_and_print_global():\n",
    "        global animal\n",
    "        animal = 'wombat'\n",
    "        print('inside change_and_print_global:', animal)"
   ]
  },
  {
   "cell_type": "code",
   "execution_count": null,
   "id": "79f7e1f4-e4c2-44b3-9532-db6886ee0d69",
   "metadata": {},
   "outputs": [],
   "source": [
    ">>> animal"
   ]
  },
  {
   "cell_type": "code",
   "execution_count": null,
   "id": "374cd6a2-9a21-429a-a827-2c673a9bb037",
   "metadata": {},
   "outputs": [],
   "source": [
    ">>> change_and_print_global()"
   ]
  },
  {
   "cell_type": "code",
   "execution_count": null,
   "id": "dc8428f5-5b28-4e91-91d1-3c67fd5abb2b",
   "metadata": {},
   "outputs": [],
   "source": [
    ">>> animal"
   ]
  },
  {
   "cell_type": "markdown",
   "id": "9319f924-163f-4b76-b811-f42a32865a7c",
   "metadata": {},
   "source": [
    "如果在函数中不声明关键字global，Python 会使用局部命名空间，同时变量也是局部的。\n",
    "函数执行后回到原来的命名空间。"
   ]
  },
  {
   "cell_type": "markdown",
   "id": "5d5bfa2a-d486-44c4-abc4-44cb06345323",
   "metadata": {},
   "source": [
    "3、Python 提供了两个获取命名空间内容的函数：\n",
    "\n",
    "• locals() 返回一个局部命名空间内容的字典；\n",
    "\n",
    "• globals() 返回一个全局命名空间内容的字典。"
   ]
  },
  {
   "cell_type": "code",
   "execution_count": null,
   "id": "96c69feb-cbcf-4ba6-a71d-61c9860b5593",
   "metadata": {},
   "outputs": [],
   "source": [
    ">>> animal = 'fruitbat'\n",
    ">>> def change_local():\n",
    "        animal = 'wombat' #局部变量\n",
    "        print('locals:',locals())"
   ]
  },
  {
   "cell_type": "code",
   "execution_count": null,
   "id": "ef2eafe3-20f7-4a7a-b995-370d73d52de2",
   "metadata": {},
   "outputs": [],
   "source": [
    ">>> animal"
   ]
  },
  {
   "cell_type": "code",
   "execution_count": null,
   "id": "dc27b2db-96d1-41f5-95b4-21e1adc6fc9b",
   "metadata": {},
   "outputs": [],
   "source": [
    ">>> change_local()"
   ]
  },
  {
   "cell_type": "code",
   "execution_count": null,
   "id": "2b173c41-b8db-4f50-a0fe-0f479ad4c636",
   "metadata": {},
   "outputs": [],
   "source": [
    ">>> print('globals:', globals()) #表示时格式稍微发生变化\n",
    "#输出：\n",
    "#globals:{'animal': 'fruitbat',\n",
    "#'__doc__': None,\n",
    "#'change_local': <function change_it at 0x1006c0170>,\n",
    "#'__package__': None,\n",
    "#'__name__': '__main__',\n",
    "#'__loader__': <class '_frozen_importlib.BuiltinImporter'>,\n",
    "#'__builtins__': <module 'builtins'>}\n",
    "#*/"
   ]
  },
  {
   "cell_type": "markdown",
   "id": "dd36e873-d9ad-4f31-bddb-3f75231b2481",
   "metadata": {},
   "source": [
    "函数change_local() 的局部命名空间只含有局部变量animal。全局命名空间含有全局变量\n",
    "animal 以及其他一些东西。"
   ]
  },
  {
   "cell_type": "markdown",
   "id": "81be0ad1-3123-4d63-8aab-611c79dbdd02",
   "metadata": {},
   "source": [
    "4、名称中_和__的用法"
   ]
  },
  {
   "cell_type": "markdown",
   "id": "ba7c7275-d314-4027-8cfd-3d80c9c5f9a5",
   "metadata": {},
   "source": [
    "以两个下划线__ 开头和结束的名称都是Python 的保留用法。因此，在自定义的变量中不\n",
    "能使用它们"
   ]
  },
  {
   "cell_type": "markdown",
   "id": "85b3c3c7-96be-4707-ab5f-6f4f8ac0e674",
   "metadata": {},
   "source": [
    "例如，一个函数的名称是系统变量function.__name__，它的文档字符串是function.__\n",
    "doc__："
   ]
  },
  {
   "cell_type": "code",
   "execution_count": null,
   "id": "9cd5d3ec-e422-4802-976f-035394b52e89",
   "metadata": {},
   "outputs": [],
   "source": [
    ">>> def amazing():\n",
    "        '''This is the amazing function.\n",
    "        Want to see it again?'''\n",
    "        print('This function is named:', amazing.__name__)\n",
    "        print('And its docstring is:', amazing.__doc__)"
   ]
  },
  {
   "cell_type": "code",
   "execution_count": null,
   "id": "142f8eb0-9362-477d-8d1a-85f618d36637",
   "metadata": {},
   "outputs": [],
   "source": [
    ">>> amazing()"
   ]
  },
  {
   "cell_type": "markdown",
   "id": "f5da793d-9135-4318-b4e7-2f9131f5d6f3",
   "metadata": {
    "jp-MarkdownHeadingCollapsed": true
   },
   "source": [
    "## 4.11 使用try和except处理错误"
   ]
  },
  {
   "cell_type": "markdown",
   "id": "8529b1cd-0f88-4c42-bb74-53b4c00eb871",
   "metadata": {},
   "source": [
    "之前已经接触到一些有关错误的例子，例如读取列表或者元组的越界位置或者字典中不存\n",
    "在的键。所以，当你执行可能出错的代码时，需要适当的**异常处理**程序用于阻止潜在的错\n",
    "误发生。"
   ]
  },
  {
   "cell_type": "markdown",
   "id": "98881731-74fa-4ad2-8481-c0c1619f2594",
   "metadata": {},
   "source": [
    "在异常可能发生的地方添加异常处理程序，对于用户明确错误是一种好方法。即使不会及\n",
    "时解决问题，至少会记录运行环境并且停止程序执行。如果发生在某些函数中的异常不能\n",
    "被立刻捕捉，它会持续，直到被某个调用函数的异常处理程序所捕捉。在你不能提供自己\n",
    "的异常捕获代码时，Python 会输出错误消息和关于错误发生处的信息，然后终止程序，例\n",
    "如下面的代码段："
   ]
  },
  {
   "cell_type": "code",
   "execution_count": null,
   "id": "bca9351c-2c17-4a71-a7a1-14404ca9bdc7",
   "metadata": {},
   "outputs": [],
   "source": [
    ">>> short_list = [1, 2, 3]\n",
    ">>> position = 5\n",
    ">>> short_list[position]"
   ]
  },
  {
   "cell_type": "markdown",
   "id": "20b3d217-d2f6-466f-81a2-5c62264888bf",
   "metadata": {},
   "source": [
    "与其让错误随机产生，不如使用try 和except 提供错误处理程序："
   ]
  },
  {
   "cell_type": "code",
   "execution_count": null,
   "id": "b8564d66-4e7f-4c7e-94e9-488a63eea5a3",
   "metadata": {},
   "outputs": [],
   "source": [
    "short_list = [1, 2, 3]\n",
    "position = 5\n",
    "try:\n",
    "    short_list[position]\n",
    "except:\n",
    "    print('Need a position between 0 and', len(short_list)-1, ' but got', position)"
   ]
  },
  {
   "cell_type": "markdown",
   "id": "242258de-276a-4aa2-a5aa-58bc503b0a22",
   "metadata": {},
   "source": [
    "在try 中的代码块会被执行。如果存在错误，就会抛出异常，然后执行except 中的代码；\n",
    "否则，跳过except 块代码。"
   ]
  },
  {
   "cell_type": "markdown",
   "id": "43bf5ccc-f4aa-4574-b6e5-93f920213561",
   "metadata": {},
   "source": [
    "像前面那样指定一个无参数的except 适用于任何异常类型。如果可能发生多种类型的异\r\n",
    "常，最好是分开进行异常处理。当然，没人强迫你这么做，你可以使一个except 去捕捉所\r\n",
    "有的异常，但是这样的处理方式会比较泛化（类似于直接输出发生了一个错误）。当然也\r\n",
    "可以使用任意数量的异常处理程序。"
   ]
  },
  {
   "cell_type": "markdown",
   "id": "1dda2235-346d-4527-80de-ae4d043c7587",
   "metadata": {},
   "source": [
    "有时需要除了异常类型以外其他的异常细节，可以使用下面的格式获取整个异常对象：\n",
    "\n",
    "except exceptiontype as name\n"
   ]
  },
  {
   "cell_type": "markdown",
   "id": "e7830ad6-e0c6-4124-a259-ea5f0946c79c",
   "metadata": {},
   "source": [
    "下面的例子首先会寻找是否有IndexError，因为它是由索引一个序列的非法位置抛出的异\n",
    "常类型。将一个IndexError 异常赋给变量err，把其他的异常赋给变量other。示例中会\n",
    "输出所有存储在other 中的该对象的异常。"
   ]
  },
  {
   "cell_type": "code",
   "execution_count": 1,
   "id": "abf48ab0-9ef2-42a9-a39e-985ccfd2439c",
   "metadata": {},
   "outputs": [
    {
     "name": "stdin",
     "output_type": "stream",
     "text": [
      "Position [q to quit]?  q\n"
     ]
    },
    {
     "name": "stdout",
     "output_type": "stream",
     "text": [
      "Something else broke: list indices must be integers or slices, not str\n"
     ]
    }
   ],
   "source": [
    "short_list = [1, 2, 3]\n",
    "while True:\n",
    "    value = input('Position [q to quit]? ')\n",
    "    if value == 'q':\n",
    "        break\n",
    "try:\n",
    "    position = value\n",
    "    print(short_list[position])\n",
    "except IndexError as err:\n",
    "    print('Bad index:', position)\n",
    "except Exception as other:\n",
    "    print('Something else broke:', other)"
   ]
  },
  {
   "cell_type": "markdown",
   "id": "042affca-a6bb-4b66-b616-fdfc5f6a17eb",
   "metadata": {},
   "source": [
    "```\n",
    "Position [q to quit]? 1\n",
    "2\n",
    "Position [q to quit]? 0\n",
    "1\n",
    "Position [q to quit]? 2\n",
    "3\n",
    "Position [q to quit]? 3\n",
    "Bad index: 3\n",
    "Position [q to quit]? 2\n",
    "3\n",
    "Position [q to quit]? two\n",
    "Something else broke: invalid literal for int() with base 10: 'two'\n",
    "Position [q to quit]? q\n",
    "```"
   ]
  },
  {
   "cell_type": "markdown",
   "id": "24ebe166-dc89-44db-82fd-86acea8d4aab",
   "metadata": {},
   "source": [
    "## 4.12 编写自己的异常"
   ]
  }
 ],
 "metadata": {
  "kernelspec": {
   "display_name": "Python 3 (ipykernel)",
   "language": "python",
   "name": "python3"
  },
  "language_info": {
   "codemirror_mode": {
    "name": "ipython",
    "version": 3
   },
   "file_extension": ".py",
   "mimetype": "text/x-python",
   "name": "python",
   "nbconvert_exporter": "python",
   "pygments_lexer": "ipython3",
   "version": "3.11.7"
  }
 },
 "nbformat": 4,
 "nbformat_minor": 5
}
