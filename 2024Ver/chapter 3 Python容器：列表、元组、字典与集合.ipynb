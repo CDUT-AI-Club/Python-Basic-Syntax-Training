{
 "cells": [
  {
   "cell_type": "markdown",
   "id": "c80fa112-78f2-456c-a64d-4f1ab8d97e88",
   "metadata": {},
   "source": [
    "3.1  列表和元组"
   ]
  },
  {
   "cell_type": "markdown",
   "id": "1e895c08-e091-406a-a88b-c48f80ca28c2",
   "metadata": {},
   "source": [
    "除字符串外python还又另外两种序列结构：列表和元组。它们都可以包含零个或多个元素。"
   ]
  },
  {
   "cell_type": "raw",
   "id": "5e514147-7929-43dc-ae20-ab00e8d479e8",
   "metadata": {},
   "source": [
    "与字符串不同的是，元组和列表并不要求所含元素种类相同，每个元素都可以是任何python类型的对象。"
   ]
  },
  {
   "cell_type": "markdown",
   "id": "823ce825-42b4-48f7-b529-5514acd39906",
   "metadata": {},
   "source": [
    "元组是不可变的，当你给元组赋值是，这些值便被固定在了元组里，再也无法修改。"
   ]
  },
  {
   "cell_type": "markdown",
   "id": "f0b8dd1b-a9de-407c-baa5-612b7653301c",
   "metadata": {},
   "source": [
    "列表是可变的，可以随意插入或删除其中的元素。"
   ]
  },
  {
   "cell_type": "markdown",
   "id": "50b7a72d-7cd3-4991-83d8-bc9948955064",
   "metadata": {},
   "source": [
    "3.2 列表"
   ]
  },
  {
   "cell_type": "markdown",
   "id": "05045a2b-ed70-4196-9ce3-7654bfaed86d",
   "metadata": {},
   "source": [
    "列表非常适合利用顺序和位置定位某一元素，尤其当元素的顺序或内容经常发生改变时。在列表中具有相同值的元素允许出现多次。"
   ]
  },
  {
   "cell_type": "markdown",
   "id": "3e5598ef-8e24-4848-811c-7bebb6b42f08",
   "metadata": {},
   "source": [
    "3.2.1 使用[]或list()创建列表"
   ]
  },
  {
   "cell_type": "markdown",
   "id": "f4d935dd",
   "metadata": {},
   "source": [
    "列表可以由零个或多个元素组成，元素之间用逗号分开，整个列表用方括号包裹"
   ]
  },
  {
   "cell_type": "code",
   "execution_count": 2,
   "id": "02a45fc7-1f56-46ec-9028-ec592ddf131e",
   "metadata": {},
   "outputs": [],
   "source": [
    "empty_list=[]\n",
    "weekdays=['Monday','Tuesday','Wednesday','Thursday','Friday']\n",
    "big_birds=['emu','ostrich','cassowary']\n",
    "first_names=['Graham','John','Terry','Terry','Micael']"
   ]
  },
  {
   "cell_type": "markdown",
   "id": "b77b9a4a",
   "metadata": {},
   "source": [
    "也可以使用list（）函数来创建一个空列表"
   ]
  },
  {
   "cell_type": "code",
   "execution_count": 3,
   "id": "e34e42ea",
   "metadata": {},
   "outputs": [
    {
     "data": {
      "text/plain": [
       "[]"
      ]
     },
     "execution_count": 3,
     "metadata": {},
     "output_type": "execute_result"
    }
   ],
   "source": [
    "another_empty_list=list()\n",
    "another_empty_list\n"
   ]
  },
  {
   "cell_type": "markdown",
   "id": "6abff0c2",
   "metadata": {},
   "source": [
    "3.2.2 使用list()将其他数据类型转换成列表"
   ]
  },
  {
   "cell_type": "code",
   "execution_count": 4,
   "id": "b870c965",
   "metadata": {},
   "outputs": [
    {
     "data": {
      "text/plain": [
       "['c', 'a', 't']"
      ]
     },
     "execution_count": 4,
     "metadata": {},
     "output_type": "execute_result"
    }
   ],
   "source": [
    "list('cat')#将字符串转换成由单个字母组成的列表"
   ]
  },
  {
   "cell_type": "code",
   "execution_count": 5,
   "id": "3551866d",
   "metadata": {},
   "outputs": [
    {
     "data": {
      "text/plain": [
       "['ready', 'fire', 'aim']"
      ]
     },
     "execution_count": 5,
     "metadata": {},
     "output_type": "execute_result"
    }
   ],
   "source": [
    "a_tuple=('ready','fire','aim')#将元组转换成列表\n",
    "list(a_tuple)"
   ]
  },
  {
   "cell_type": "markdown",
   "id": "19f94734",
   "metadata": {},
   "source": [
    "3.2.3 使用[offset]获取元素"
   ]
  },
  {
   "cell_type": "code",
   "execution_count": 6,
   "id": "ceb0ade2",
   "metadata": {},
   "outputs": [
    {
     "data": {
      "text/plain": [
       "'Groucho'"
      ]
     },
     "execution_count": 6,
     "metadata": {},
     "output_type": "execute_result"
    }
   ],
   "source": [
    "marxes=['Groucho','Chico','Harpo']\n",
    "marxes[0]"
   ]
  },
  {
   "cell_type": "code",
   "execution_count": 7,
   "id": "98eed852",
   "metadata": {},
   "outputs": [
    {
     "data": {
      "text/plain": [
       "'Chico'"
      ]
     },
     "execution_count": 7,
     "metadata": {},
     "output_type": "execute_result"
    }
   ],
   "source": [
    "marxes[1]"
   ]
  },
  {
   "cell_type": "code",
   "execution_count": 8,
   "id": "91eac6bd",
   "metadata": {},
   "outputs": [
    {
     "data": {
      "text/plain": [
       "'Harpo'"
      ]
     },
     "execution_count": 8,
     "metadata": {},
     "output_type": "execute_result"
    }
   ],
   "source": [
    "marxes[-1]"
   ]
  },
  {
   "cell_type": "markdown",
   "id": "a152d98f",
   "metadata": {},
   "source": [
    "3.2.4 包含列表的列表"
   ]
  },
  {
   "cell_type": "code",
   "execution_count": 9,
   "id": "49a110e4",
   "metadata": {},
   "outputs": [
    {
     "data": {
      "text/plain": [
       "['hummingbird', 'finch']"
      ]
     },
     "execution_count": 9,
     "metadata": {},
     "output_type": "execute_result"
    }
   ],
   "source": [
    "small_birds=['hummingbird','finch']\n",
    "extinct_birds=['dodo','passenger pigeno','Norwegian Blue']\n",
    "all_birds=[small_birds,'macaw',extinct_birds]\n",
    "all_birds[0]"
   ]
  },
  {
   "cell_type": "code",
   "execution_count": 10,
   "id": "55d24315",
   "metadata": {},
   "outputs": [
    {
     "data": {
      "text/plain": [
       "'macaw'"
      ]
     },
     "execution_count": 10,
     "metadata": {},
     "output_type": "execute_result"
    }
   ],
   "source": [
    "all_birds[1]"
   ]
  },
  {
   "cell_type": "code",
   "execution_count": 11,
   "id": "369c490f",
   "metadata": {},
   "outputs": [
    {
     "data": {
      "text/plain": [
       "'passenger pigeno'"
      ]
     },
     "execution_count": 11,
     "metadata": {},
     "output_type": "execute_result"
    }
   ],
   "source": [
    "all_birds[2][1]"
   ]
  },
  {
   "cell_type": "markdown",
   "id": "fe252d3a",
   "metadata": {},
   "source": [
    "3.2.5 使用[offset]修改元素"
   ]
  },
  {
   "cell_type": "code",
   "execution_count": 12,
   "id": "dccef118",
   "metadata": {},
   "outputs": [
    {
     "data": {
      "text/plain": [
       "['Groucho', 'Chico', 'Wanda']"
      ]
     },
     "execution_count": 12,
     "metadata": {},
     "output_type": "execute_result"
    }
   ],
   "source": [
    "marxes=['Groucho','Chico','Harpo']\n",
    "marxes[2]='Wanda'\n",
    "marxes"
   ]
  },
  {
   "cell_type": "markdown",
   "id": "a2be7267",
   "metadata": {},
   "source": [
    "3.2.6 指定范围并使用切片提取元素"
   ]
  },
  {
   "cell_type": "code",
   "execution_count": 13,
   "id": "c6cf7755",
   "metadata": {},
   "outputs": [
    {
     "data": {
      "text/plain": [
       "['Groucho', 'Chico']"
      ]
     },
     "execution_count": 13,
     "metadata": {},
     "output_type": "execute_result"
    }
   ],
   "source": [
    "marxes=['Groucho','Chico','Harpo']#使用切片提取列表的一个子序列\n",
    "marxes[0:2]"
   ]
  },
  {
   "cell_type": "code",
   "execution_count": 14,
   "id": "ba845b13",
   "metadata": {},
   "outputs": [
    {
     "data": {
      "text/plain": [
       "['Groucho', 'Harpo']"
      ]
     },
     "execution_count": 14,
     "metadata": {},
     "output_type": "execute_result"
    }
   ],
   "source": [
    "marxes[::2]"
   ]
  },
  {
   "cell_type": "code",
   "execution_count": 15,
   "id": "99ae17aa",
   "metadata": {},
   "outputs": [
    {
     "data": {
      "text/plain": [
       "['Harpo', 'Groucho']"
      ]
     },
     "execution_count": 15,
     "metadata": {},
     "output_type": "execute_result"
    }
   ],
   "source": [
    "marxes[::-2]"
   ]
  },
  {
   "cell_type": "code",
   "execution_count": 16,
   "id": "9318db62",
   "metadata": {},
   "outputs": [
    {
     "data": {
      "text/plain": [
       "['Harpo', 'Chico', 'Groucho']"
      ]
     },
     "execution_count": 16,
     "metadata": {},
     "output_type": "execute_result"
    }
   ],
   "source": [
    "marxes[::-1]#实现逆序"
   ]
  },
  {
   "cell_type": "markdown",
   "id": "bdf356ce",
   "metadata": {},
   "source": [
    "3.2.7 使用append()添加元素至尾部"
   ]
  },
  {
   "cell_type": "code",
   "execution_count": 17,
   "id": "5a3550d8",
   "metadata": {},
   "outputs": [
    {
     "data": {
      "text/plain": [
       "['Groucho', 'Chico', 'Harpo', 'Zeppo']"
      ]
     },
     "execution_count": 17,
     "metadata": {},
     "output_type": "execute_result"
    }
   ],
   "source": [
    "marxes.append('Zeppo')\n",
    "marxes"
   ]
  },
  {
   "cell_type": "markdown",
   "id": "7a9a1ae0",
   "metadata": {},
   "source": [
    "3.2.8 使用entend()或+合并列表"
   ]
  },
  {
   "cell_type": "code",
   "execution_count": 18,
   "id": "0100e455",
   "metadata": {},
   "outputs": [
    {
     "data": {
      "text/plain": [
       "['Groucho', 'Chico', 'Harpo', 'Zeppo', 'Gummo', 'Karl']"
      ]
     },
     "execution_count": 18,
     "metadata": {},
     "output_type": "execute_result"
    }
   ],
   "source": [
    "marxes=['Groucho','Chico','Harpo','Zeppo']\n",
    "others=['Gummo','Karl']\n",
    "marxes.extend(others)\n",
    "marxes"
   ]
  },
  {
   "cell_type": "code",
   "execution_count": 19,
   "id": "b2f84cc3",
   "metadata": {},
   "outputs": [
    {
     "data": {
      "text/plain": [
       "['Groucho', 'Chico', 'Harpo', 'Zeppo', 'Gummo', 'Karl']"
      ]
     },
     "execution_count": 19,
     "metadata": {},
     "output_type": "execute_result"
    }
   ],
   "source": [
    "marxes=['Groucho','Chico','Harpo','Zeppo']\n",
    "others=['Gummo','Karl']\n",
    "marxes+=others\n",
    "marxes"
   ]
  },
  {
   "cell_type": "code",
   "execution_count": 20,
   "id": "7fdf17b3",
   "metadata": {},
   "outputs": [
    {
     "data": {
      "text/plain": [
       "['Groucho', 'Chico', 'Harpo', 'Zeppo', ['Gummo', 'Karl']]"
      ]
     },
     "execution_count": 20,
     "metadata": {},
     "output_type": "execute_result"
    }
   ],
   "source": [
    "marxes=['Groucho','Chico','Harpo','Zeppo']\n",
    "others=['Gummo','Karl']\n",
    "marxes.append(others)\n",
    "marxes"
   ]
  },
  {
   "cell_type": "markdown",
   "id": "0c19e5cf",
   "metadata": {},
   "source": [
    "3.2.9 使用insert()在指定位置插入元素"
   ]
  },
  {
   "cell_type": "code",
   "execution_count": 21,
   "id": "5df2167b",
   "metadata": {},
   "outputs": [
    {
     "data": {
      "text/plain": [
       "['Groucho', 'Chico', 'Harpo', 'Gummo', 'Zeppo', ['Gummo', 'Karl']]"
      ]
     },
     "execution_count": 21,
     "metadata": {},
     "output_type": "execute_result"
    }
   ],
   "source": [
    "marxes.insert(3,'Gummo')\n",
    "marxes"
   ]
  },
  {
   "cell_type": "code",
   "execution_count": 22,
   "id": "0160158c",
   "metadata": {},
   "outputs": [
    {
     "data": {
      "text/plain": [
       "['Groucho', 'Chico', 'Harpo', 'Gummo', 'Zeppo', ['Gummo', 'Karl'], 'Karl']"
      ]
     },
     "execution_count": 22,
     "metadata": {},
     "output_type": "execute_result"
    }
   ],
   "source": [
    "marxes.insert(10,'Karl')#偏移量超过尾部，插到列表最后\n",
    "marxes"
   ]
  },
  {
   "cell_type": "markdown",
   "id": "5822becd",
   "metadata": {},
   "source": [
    "3.2.10 使用del删除指定位置的元素"
   ]
  },
  {
   "cell_type": "code",
   "execution_count": 23,
   "id": "35443948",
   "metadata": {},
   "outputs": [
    {
     "data": {
      "text/plain": [
       "['Groucho', 'Chico', 'Harpo', 'Gummo', 'Zeppo', ['Gummo', 'Karl']]"
      ]
     },
     "execution_count": 23,
     "metadata": {},
     "output_type": "execute_result"
    }
   ],
   "source": [
    "del marxes[-1]\n",
    "marxes"
   ]
  },
  {
   "cell_type": "code",
   "execution_count": 24,
   "id": "01152b90",
   "metadata": {},
   "outputs": [
    {
     "data": {
      "text/plain": [
       "'Harpo'"
      ]
     },
     "execution_count": 24,
     "metadata": {},
     "output_type": "execute_result"
    }
   ],
   "source": [
    "marxes=['Groucho','Chico','Harpo','Gummo','Zeppo']\n",
    "marxes[2]"
   ]
  },
  {
   "cell_type": "code",
   "execution_count": 25,
   "id": "fe2d8706",
   "metadata": {},
   "outputs": [
    {
     "data": {
      "text/plain": [
       "['Groucho', 'Chico', 'Gummo', 'Zeppo']"
      ]
     },
     "execution_count": 25,
     "metadata": {},
     "output_type": "execute_result"
    }
   ],
   "source": [
    "del marxes[2]\n",
    "marxes"
   ]
  },
  {
   "cell_type": "code",
   "execution_count": 26,
   "id": "7ed8fbaa",
   "metadata": {},
   "outputs": [
    {
     "data": {
      "text/plain": [
       "'Gummo'"
      ]
     },
     "execution_count": 26,
     "metadata": {},
     "output_type": "execute_result"
    }
   ],
   "source": [
    "marxes[2]"
   ]
  },
  {
   "cell_type": "markdown",
   "id": "a0e6eb75",
   "metadata": {},
   "source": [
    "3.2.11 使用remove()删除具有指定值的元素"
   ]
  },
  {
   "cell_type": "code",
   "execution_count": 27,
   "id": "e1ec75d0",
   "metadata": {},
   "outputs": [
    {
     "data": {
      "text/plain": [
       "['Groucho', 'Chico', 'Harpo', 'Zeppo']"
      ]
     },
     "execution_count": 27,
     "metadata": {},
     "output_type": "execute_result"
    }
   ],
   "source": [
    "marxes=['Groucho','Chico','Harpo','Gummo','Zeppo']\n",
    "marxes.remove('Gummo')\n",
    "marxes"
   ]
  },
  {
   "cell_type": "markdown",
   "id": "cf29a3da",
   "metadata": {},
   "source": [
    "3.2.12 使用pop()获取并删除指定位置的元素"
   ]
  },
  {
   "cell_type": "code",
   "execution_count": 28,
   "id": "cf1f8cf3",
   "metadata": {},
   "outputs": [
    {
     "data": {
      "text/plain": [
       "'Zeppo'"
      ]
     },
     "execution_count": 28,
     "metadata": {},
     "output_type": "execute_result"
    }
   ],
   "source": [
    "marxes=['Groucho','Chico','Harpo','Zeppo']\n",
    "marxes.pop()#不指定偏移量，默认使用-1"
   ]
  },
  {
   "cell_type": "code",
   "execution_count": 29,
   "id": "5e04a1ad",
   "metadata": {},
   "outputs": [
    {
     "data": {
      "text/plain": [
       "['Groucho', 'Chico', 'Harpo']"
      ]
     },
     "execution_count": 29,
     "metadata": {},
     "output_type": "execute_result"
    }
   ],
   "source": [
    "marxes"
   ]
  },
  {
   "cell_type": "code",
   "execution_count": 30,
   "id": "88652c4d",
   "metadata": {},
   "outputs": [
    {
     "data": {
      "text/plain": [
       "'Chico'"
      ]
     },
     "execution_count": 30,
     "metadata": {},
     "output_type": "execute_result"
    }
   ],
   "source": [
    "marxes.pop(1)"
   ]
  },
  {
   "cell_type": "code",
   "execution_count": 31,
   "id": "feca0e3b",
   "metadata": {},
   "outputs": [
    {
     "data": {
      "text/plain": [
       "['Groucho', 'Harpo']"
      ]
     },
     "execution_count": 31,
     "metadata": {},
     "output_type": "execute_result"
    }
   ],
   "source": [
    "marxes"
   ]
  },
  {
   "cell_type": "markdown",
   "id": "30f30ecb",
   "metadata": {},
   "source": [
    "3.2.13  使用index()查询具有特定值的元素位置"
   ]
  },
  {
   "cell_type": "code",
   "execution_count": 32,
   "id": "8cdcc999",
   "metadata": {},
   "outputs": [
    {
     "data": {
      "text/plain": [
       "1"
      ]
     },
     "execution_count": 32,
     "metadata": {},
     "output_type": "execute_result"
    }
   ],
   "source": [
    "marxes=['Groucho','Chico','Harpo','Zeppo']\n",
    "marxes.index('Chico')"
   ]
  },
  {
   "cell_type": "markdown",
   "id": "d039459b",
   "metadata": {},
   "source": [
    "3.2.14 使用in判断值是否存在"
   ]
  },
  {
   "cell_type": "code",
   "execution_count": 33,
   "id": "17583767",
   "metadata": {},
   "outputs": [
    {
     "data": {
      "text/plain": [
       "True"
      ]
     },
     "execution_count": 33,
     "metadata": {},
     "output_type": "execute_result"
    }
   ],
   "source": [
    "marxes=['Groucho','Chico','Harpo','Zeppo']\n",
    "'Groucho'in marxes"
   ]
  },
  {
   "cell_type": "code",
   "execution_count": 34,
   "id": "45e13b31",
   "metadata": {},
   "outputs": [
    {
     "data": {
      "text/plain": [
       "False"
      ]
     },
     "execution_count": 34,
     "metadata": {},
     "output_type": "execute_result"
    }
   ],
   "source": [
    "'Bob'in marxes"
   ]
  },
  {
   "cell_type": "markdown",
   "id": "37ca443d",
   "metadata": {},
   "source": [
    "3.2.15  使用count()记录特定值出现的次数"
   ]
  },
  {
   "cell_type": "code",
   "execution_count": 35,
   "id": "20540ae8",
   "metadata": {},
   "outputs": [
    {
     "data": {
      "text/plain": [
       "1"
      ]
     },
     "execution_count": 35,
     "metadata": {},
     "output_type": "execute_result"
    }
   ],
   "source": [
    "marxes=['Groucho','Chico','Harpo']\n",
    "marxes.count('Harpo')"
   ]
  },
  {
   "cell_type": "code",
   "execution_count": 36,
   "id": "f6da8a2c",
   "metadata": {},
   "outputs": [
    {
     "data": {
      "text/plain": [
       "0"
      ]
     },
     "execution_count": 36,
     "metadata": {},
     "output_type": "execute_result"
    }
   ],
   "source": [
    "marxes.count('Bob')"
   ]
  },
  {
   "cell_type": "code",
   "execution_count": 37,
   "id": "abbfa459",
   "metadata": {},
   "outputs": [
    {
     "data": {
      "text/plain": [
       "3"
      ]
     },
     "execution_count": 37,
     "metadata": {},
     "output_type": "execute_result"
    }
   ],
   "source": [
    "snl_skit=['chessburger','chessburger','chessburger']\n",
    "snl_skit.count('chessburger')"
   ]
  },
  {
   "cell_type": "markdown",
   "id": "00287296",
   "metadata": {},
   "source": [
    "3.2.16 使用join()转换为字符串"
   ]
  },
  {
   "cell_type": "code",
   "execution_count": 38,
   "id": "ec1e2c74",
   "metadata": {},
   "outputs": [
    {
     "data": {
      "text/plain": [
       "'Groucho,Chico,Harpo'"
      ]
     },
     "execution_count": 38,
     "metadata": {},
     "output_type": "execute_result"
    }
   ],
   "source": [
    "marxes=['Groucho','Chico','Harpo']\n",
    "','.join(marxes)"
   ]
  },
  {
   "cell_type": "markdown",
   "id": "bc1f5672",
   "metadata": {},
   "source": [
    "3.2.17 使用sort()重新排列元素"
   ]
  },
  {
   "cell_type": "markdown",
   "id": "cc78dda8",
   "metadata": {},
   "source": [
    "列表方法sort()会对原列表进行排序，改变原列表内容\n",
    "通用函数sorted()则会返回排好序的列表副本，原列表内容不变"
   ]
  },
  {
   "cell_type": "code",
   "execution_count": 39,
   "id": "ad0ed824",
   "metadata": {},
   "outputs": [
    {
     "data": {
      "text/plain": [
       "['Chico', 'Groucho', 'Harpo']"
      ]
     },
     "execution_count": 39,
     "metadata": {},
     "output_type": "execute_result"
    }
   ],
   "source": [
    "marxes=['Groucho','Chico','Harpo']#如果列表中都是数字，它们会默认排列成从小到大的升序。如果都是字符串，则会按照字母表排列\n",
    "sorted_marxes=sorted(marxes)\n",
    "sorted_marxes"
   ]
  },
  {
   "cell_type": "code",
   "execution_count": 40,
   "id": "6d66ca78",
   "metadata": {},
   "outputs": [
    {
     "data": {
      "text/plain": [
       "['Groucho', 'Chico', 'Harpo']"
      ]
     },
     "execution_count": 40,
     "metadata": {},
     "output_type": "execute_result"
    }
   ],
   "source": [
    "marxes"
   ]
  },
  {
   "cell_type": "code",
   "execution_count": 41,
   "id": "bf9bccd0",
   "metadata": {},
   "outputs": [
    {
     "data": {
      "text/plain": [
       "['Chico', 'Groucho', 'Harpo']"
      ]
     },
     "execution_count": 41,
     "metadata": {},
     "output_type": "execute_result"
    }
   ],
   "source": [
    "marxes.sort()\n",
    "marxes"
   ]
  },
  {
   "cell_type": "code",
   "execution_count": 42,
   "id": "8ea11865",
   "metadata": {},
   "outputs": [
    {
     "data": {
      "text/plain": [
       "[1, 2, 3, 4.0]"
      ]
     },
     "execution_count": 42,
     "metadata": {},
     "output_type": "execute_result"
    }
   ],
   "source": [
    "numbers=[2,1,4.0,3]#列表中元素为多种类型，例如整型和浮点型，只要能够自动互相转换也可以正常工作\n",
    "numbers.sort()\n",
    "numbers"
   ]
  },
  {
   "cell_type": "code",
   "execution_count": 43,
   "id": "2c79bebc",
   "metadata": {},
   "outputs": [
    {
     "data": {
      "text/plain": [
       "[4.0, 3, 2, 1]"
      ]
     },
     "execution_count": 43,
     "metadata": {},
     "output_type": "execute_result"
    }
   ],
   "source": [
    "numbers=[2,1,4.0,3]\n",
    "numbers.sort(reverse=True)#添加参数reverse=True可以改变为降序\n",
    "numbers"
   ]
  },
  {
   "cell_type": "markdown",
   "id": "98b5fb32",
   "metadata": {},
   "source": [
    "3.2.18 使用len()获取长度"
   ]
  },
  {
   "cell_type": "code",
   "execution_count": 44,
   "id": "4bf55d4d",
   "metadata": {},
   "outputs": [
    {
     "data": {
      "text/plain": [
       "3"
      ]
     },
     "execution_count": 44,
     "metadata": {},
     "output_type": "execute_result"
    }
   ],
   "source": [
    "marxes=['Groucho','Chico','Harpo']\n",
    "len(marxes)"
   ]
  }
 ],
 "metadata": {
  "kernelspec": {
   "display_name": "Python 3 (ipykernel)",
   "language": "python",
   "name": "python3"
  },
  "language_info": {
   "codemirror_mode": {
    "name": "ipython",
    "version": 3
   },
   "file_extension": ".py",
   "mimetype": "text/x-python",
   "name": "python",
   "nbconvert_exporter": "python",
   "pygments_lexer": "ipython3",
   "version": "3.12.7"
  }
 },
 "nbformat": 4,
 "nbformat_minor": 5
}
