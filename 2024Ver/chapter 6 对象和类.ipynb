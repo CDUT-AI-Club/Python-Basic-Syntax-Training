{
 "cells": [
  {
   "cell_type": "markdown",
   "id": "548b79c5-f783-4a31-8f3e-1d0888a77b28",
   "metadata": {
    "jp-MarkdownHeadingCollapsed": true
   },
   "source": [
    "## 6.1 什么是对象"
   ]
  },
  {
   "cell_type": "markdown",
   "id": "72cf91ca-6234-4b1c-9923-670b6aa91370",
   "metadata": {},
   "source": [
    "python 里的所有数据都是以对象形式存在的，无论是简单的数\n",
    "字类型还是复杂的代码模块。\n",
    "\n",
    "然而，Python 特殊的语法形式巧妙地将实现对象机制的大量\n",
    "细节隐藏了起来。输入num = 7 就可以创建一个值为7 的整数对象，并且将这个对象赋值\n",
    "给变量num。事实上，在Python 中，只有当你想要创建属于自己的对象或者需要修改已有\n",
    "对象的行为时，才需要关注对象的内部实现细节。"
   ]
  },
  {
   "cell_type": "markdown",
   "id": "f1e60556-7995-4375-9922-9d02a0ab35da",
   "metadata": {},
   "source": [
    "对象既包含数据（变量，更习惯称之为特性，attribute），也包含代码（函数，也称为方法）。\n",
    "它是某一类具体事物的特殊实例。"
   ]
  },
  {
   "cell_type": "markdown",
   "id": "e84fa476-3fd3-4330-9132-1fe4a4edbb7b",
   "metadata": {},
   "source": [
    "例如，整数7 就是一个包含了加法、乘法之类方法的对\n",
    "象\n",
    "我们称之为整数类"
   ]
  },
  {
   "cell_type": "markdown",
   "id": "a85eb02b-5f55-40b5-b5ba-2e42933bc342",
   "metadata": {},
   "source": [
    "字符串'cat' 和'duck' 也是Python 对象，它们\n",
    "都包含着capitalize() 和replace() 之类的字符串方法"
   ]
  },
  {
   "cell_type": "markdown",
   "id": "1c343f1e-b837-44d7-9bda-3744e37bb67f",
   "metadata": {
    "jp-MarkdownHeadingCollapsed": true
   },
   "source": [
    "## 6.2 使用class定义类"
   ]
  },
  {
   "cell_type": "markdown",
   "id": "b0bd3b3b-5aa9-4355-9c81-e45808663c3f",
   "metadata": {},
   "source": [
    "首先创建的是最简单的类，即一个没有任何内容的空类："
   ]
  },
  {
   "cell_type": "code",
   "execution_count": 3,
   "id": "a4c6cbd4-1963-4426-ad17-2fde648d23ed",
   "metadata": {},
   "outputs": [],
   "source": [
    ">>> class Person():\n",
    "        pass"
   ]
  },
  {
   "cell_type": "markdown",
   "id": "b99c673f-efeb-4d01-9f0a-d84310a3a35b",
   "metadata": {},
   "source": [
    "同函数一样，用pass 表示这个类是一个空类。上面这种定义类的方法已经是最简形式，无\n",
    "法再省略。你可以通过类名来创建对象，同调用函数一样："
   ]
  },
  {
   "cell_type": "code",
   "execution_count": 4,
   "id": "d803482a-0896-4642-9d8f-8c5a463b2b9a",
   "metadata": {},
   "outputs": [],
   "source": [
    ">>> someone = Person()"
   ]
  },
  {
   "cell_type": "markdown",
   "id": "20fbf6da-647f-4105-9265-ded184fb9571",
   "metadata": {},
   "source": [
    "在这个例子中，Person() 创建了一个Person 类的对象，并给它赋值someone 这个名字。但\r\n",
    "是，由于我们的Person 类是空的，所以由它创建的对象someone 实际上什么也做不了。"
   ]
  },
  {
   "cell_type": "markdown",
   "id": "05302026-988d-4243-9b86-dba2201cb610",
   "metadata": {},
   "source": [
    "我们来试着重新定义一下Person 类。这一次，将Python 中特殊的对象初始化方法__\r\n",
    "init__ 放入其中："
   ]
  },
  {
   "cell_type": "code",
   "execution_count": 5,
   "id": "cd830feb-7d5a-43c1-857e-7a1bee93284e",
   "metadata": {},
   "outputs": [],
   "source": [
    ">>> class Person():\n",
    "        def __init__(self):\n",
    "            pass"
   ]
  },
  {
   "cell_type": "markdown",
   "id": "0a8c45e5-6530-4ab9-b2c0-c3634e42d385",
   "metadata": {},
   "source": [
    "__init__() 是Python 中一个特殊的函数名，用于根据类的定义创建实例对象。self 参数指向了这个正在被创建的对象本身。"
   ]
  },
  {
   "cell_type": "markdown",
   "id": "0ba8d5ce-5b64-4cd7-83ed-62a20751a5c0",
   "metadata": {},
   "source": [
    "当你在类声明里定义__init__() 方法时，第一个参数必须为self。尽管self 并不是一个\n",
    "Python 保留字，但它很常用。"
   ]
  },
  {
   "cell_type": "markdown",
   "id": "b36663f8-a4b6-412f-9211-1afa87e19487",
   "metadata": {},
   "source": [
    "尽管我们添加了初始化方法，但用这个Person 类创建的对象仍然什么也做不了。即将进行\n",
    "的第三次尝试要更吸引人了，你将学习如何创建一个简单可用的Python 对象。这一次，会\n",
    "在初始化方法中添加name 参数："
   ]
  },
  {
   "cell_type": "code",
   "execution_count": 10,
   "id": "375d2961-7f69-4261-ad1f-e3b89ac739bb",
   "metadata": {},
   "outputs": [],
   "source": [
    ">>> class Person():\n",
    "        def __init__(self,name):\n",
    "            self.name = name"
   ]
  },
  {
   "cell_type": "markdown",
   "id": "26096097-d347-4b5d-a35c-0333bf552018",
   "metadata": {},
   "source": [
    "现在，用Person 类创建一个对象，为name 特性传递一个字符串参数："
   ]
  },
  {
   "cell_type": "code",
   "execution_count": 11,
   "id": "8778f944-c833-4911-a5c5-32ce0a25004a",
   "metadata": {},
   "outputs": [],
   "source": [
    ">>> hunter = Person('Elmer Fudd')"
   ]
  },
  {
   "cell_type": "code",
   "execution_count": 14,
   "id": "3c71750b-436d-4269-b166-8f4abc9f9d63",
   "metadata": {},
   "outputs": [
    {
     "data": {
      "text/plain": [
       "'Elmer Fudd'"
      ]
     },
     "execution_count": 14,
     "metadata": {},
     "output_type": "execute_result"
    }
   ],
   "source": [
    "hunter.name"
   ]
  },
  {
   "cell_type": "code",
   "execution_count": 15,
   "id": "6156ceae-69ef-4afa-a6d6-bf211d16d07c",
   "metadata": {},
   "outputs": [
    {
     "name": "stdout",
     "output_type": "stream",
     "text": [
      "The mighty hunter:  Elmer Fudd\n"
     ]
    }
   ],
   "source": [
    ">>> print('The mighty hunter: ', hunter.name)"
   ]
  },
  {
   "cell_type": "markdown",
   "id": "158a8232-a846-488b-853f-48eae7c113e5",
   "metadata": {},
   "source": [
    "记住，在Person 类定义的内部，你可以直接通过self.name 访问name 特性。而当创建了\n",
    "一个实际的对象后，例如这里的hunter，需要通过hunter.name 来访问它。"
   ]
  },
  {
   "cell_type": "markdown",
   "id": "f2746e52-cd59-494a-8239-c7aceec89e0b",
   "metadata": {},
   "source": [
    "## 6.3 继承"
   ]
  },
  {
   "cell_type": "code",
   "execution_count": null,
   "id": "45067f43-a72f-4849-8435-6a865230b8c8",
   "metadata": {},
   "outputs": [],
   "source": []
  },
  {
   "cell_type": "code",
   "execution_count": null,
   "id": "86c6e763-4ac6-4a1d-99c9-766696f40a8a",
   "metadata": {},
   "outputs": [],
   "source": []
  },
  {
   "cell_type": "code",
   "execution_count": null,
   "id": "9bf4a67a-0cef-4084-bb34-b25c9ed57a17",
   "metadata": {},
   "outputs": [],
   "source": []
  },
  {
   "cell_type": "code",
   "execution_count": null,
   "id": "ddb19686-53a9-4f2b-a271-b00e30119c4e",
   "metadata": {},
   "outputs": [],
   "source": []
  },
  {
   "cell_type": "code",
   "execution_count": null,
   "id": "a896df82-e86a-4d06-96b1-6bac2fa60248",
   "metadata": {},
   "outputs": [],
   "source": []
  },
  {
   "cell_type": "code",
   "execution_count": null,
   "id": "135b75aa-5e0e-4e89-9067-66fa66be9397",
   "metadata": {},
   "outputs": [],
   "source": []
  },
  {
   "cell_type": "code",
   "execution_count": null,
   "id": "0ab34670-30bb-4cb0-9d53-77b68ee6be93",
   "metadata": {},
   "outputs": [],
   "source": []
  }
 ],
 "metadata": {
  "kernelspec": {
   "display_name": "Python 3 (ipykernel)",
   "language": "python",
   "name": "python3"
  },
  "language_info": {
   "codemirror_mode": {
    "name": "ipython",
    "version": 3
   },
   "file_extension": ".py",
   "mimetype": "text/x-python",
   "name": "python",
   "nbconvert_exporter": "python",
   "pygments_lexer": "ipython3",
   "version": "3.11.7"
  }
 },
 "nbformat": 4,
 "nbformat_minor": 5
}
